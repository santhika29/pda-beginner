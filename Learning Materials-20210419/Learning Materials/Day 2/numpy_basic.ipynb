{
  "nbformat": 4,
  "nbformat_minor": 0,
  "metadata": {
    "colab": {
      "name": "numpy_basic.ipynb",
      "provenance": [],
      "collapsed_sections": [
        "j5KDA_Hns5S4",
        "_su9o1DsuYll",
        "lf-XE2zSzdCp",
        "-mNeuJLMF-lA",
        "P-hULoZRK4PL",
        "Wyth0vX31Lth",
        "wHFHp2LKJnGQ"
      ]
    },
    "kernelspec": {
      "name": "python3",
      "display_name": "Python 3"
    }
  },
  "cells": [
    {
      "cell_type": "markdown",
      "metadata": {
        "id": "yZKr1VyBrNj8"
      },
      "source": [
        "# Dasar-Dasar Modul Numpy"
      ]
    },
    {
      "cell_type": "markdown",
      "metadata": {
        "id": "utiu6KrtrUIG"
      },
      "source": [
        "![](https://upload.wikimedia.org/wikipedia/commons/thumb/1/1a/NumPy_logo.svg/1200px-NumPy_logo.svg.png)\n",
        "\n",
        "Numpy (*Numerical Python*) merupakan paket atau modul yang diperlukan dalam komputasi saintifik berperforma tinggi dan analisis data. Numpy merupakan sebuah dasar dalam penyusunan modul berlevel tinggi yang ada di python. Pada tutorial kali ini kita akan belajar:\n",
        "\n",
        "1. Numpy ndarray\n",
        "2. Fungsi matematika universal untuk array\n",
        "3. Pemrosesan data menggunakan array"
      ]
    },
    {
      "cell_type": "markdown",
      "metadata": {
        "id": "t5sNrDWssf8t"
      },
      "source": [
        "Untuk menginstall numpy, jalankan perintah berikut:"
      ]
    },
    {
      "cell_type": "code",
      "metadata": {
        "id": "Tvd0ozfFq8J8",
        "outputId": "18781e31-0e5f-4656-b437-b9e76edea643",
        "colab": {
          "base_uri": "https://localhost:8080/",
          "height": 33
        }
      },
      "source": [
        "!pip3 install numpy"
      ],
      "execution_count": null,
      "outputs": [
        {
          "output_type": "stream",
          "text": [
            "Requirement already satisfied: numpy in /usr/local/lib/python3.6/dist-packages (1.18.5)\n"
          ],
          "name": "stdout"
        }
      ]
    },
    {
      "cell_type": "markdown",
      "metadata": {
        "id": "h23InPBJsnMd"
      },
      "source": [
        "Untuk mengaktifkan modul terinstall, jalankan perintah berikut:"
      ]
    },
    {
      "cell_type": "code",
      "metadata": {
        "id": "tFTw-mAcsmfg"
      },
      "source": [
        "import numpy as np"
      ],
      "execution_count": null,
      "outputs": []
    },
    {
      "cell_type": "markdown",
      "metadata": {
        "id": "j5KDA_Hns5S4"
      },
      "source": [
        "## 1 Numpy ndarray"
      ]
    },
    {
      "cell_type": "markdown",
      "metadata": {
        "id": "I9ncCLrttICz"
      },
      "source": [
        "Salah satu fitur kunci dari numpy adalah *N-dimensional array object* atau `ndarray`, dimana ia merupakan kontainer yang cepat dan fleksbel untuk menangani dataset besar yang ada di python. Arrray memungkinkan kita untuk melakukan operasi matematika pada seluruh blok data menggunakan sintaks operasi yang mirip atau setara antar elemen skalar.\n",
        "\n",
        "Sebuah `ndarray` merupakan kontainer multidimensi umum untuk data yang homogen yang berarti jenis data dalam kontainer haruslah sejenis. Setiap array memiliki bentuk (`shape`), sebuah tuple yang mengidentifikasikan dimensi array dan `dtype` yang mendeksripsikan jenis data sebuah array."
      ]
    },
    {
      "cell_type": "markdown",
      "metadata": {
        "id": "_su9o1DsuYll"
      },
      "source": [
        "### 1.1 Membuat ndarray"
      ]
    },
    {
      "cell_type": "markdown",
      "metadata": {
        "id": "uFeXbBVmug2v"
      },
      "source": [
        "Cara termudah untuk membuat sebuah array adalah dengan menggunakan fungsi `array`. Fungsi ini menerima sejumlah *sequence-like object* dan menghasilkan array yang berisikan data yang telah diinputkan sebelumnya."
      ]
    },
    {
      "cell_type": "code",
      "metadata": {
        "id": "puvOAyvMtwK4",
        "outputId": "6d375be6-c9a3-4037-b9f6-2457f6d00db7",
        "colab": {
          "base_uri": "https://localhost:8080/",
          "height": 33
        }
      },
      "source": [
        "# simple array\n",
        "data1 = [1, 1, 4, 5, 6, 8]\n",
        "arr1 = np.array(data1)\n",
        "arr1"
      ],
      "execution_count": null,
      "outputs": [
        {
          "output_type": "execute_result",
          "data": {
            "text/plain": [
              "array([1, 1, 4, 5, 6, 8])"
            ]
          },
          "metadata": {
            "tags": []
          },
          "execution_count": 3
        }
      ]
    },
    {
      "cell_type": "markdown",
      "metadata": {
        "id": "8jBmNQrevM9L"
      },
      "source": [
        "Untuk mengecek dimensi array, gunakan method `ndim` atau `shape`."
      ]
    },
    {
      "cell_type": "code",
      "metadata": {
        "id": "usGuZfVcvMJx",
        "outputId": "772f4bd1-b283-44c0-ffa7-fc663aa895dd",
        "colab": {
          "base_uri": "https://localhost:8080/",
          "height": 33
        }
      },
      "source": [
        "arr1.ndim"
      ],
      "execution_count": null,
      "outputs": [
        {
          "output_type": "execute_result",
          "data": {
            "text/plain": [
              "1"
            ]
          },
          "metadata": {
            "tags": []
          },
          "execution_count": 5
        }
      ]
    },
    {
      "cell_type": "code",
      "metadata": {
        "id": "NoCYYjqyvbRz",
        "outputId": "0df0ffdf-cf92-4e2c-bd44-8529ab2e3f9a",
        "colab": {
          "base_uri": "https://localhost:8080/",
          "height": 33
        }
      },
      "source": [
        "arr1.shape"
      ],
      "execution_count": null,
      "outputs": [
        {
          "output_type": "execute_result",
          "data": {
            "text/plain": [
              "(6,)"
            ]
          },
          "metadata": {
            "tags": []
          },
          "execution_count": 6
        }
      ]
    },
    {
      "cell_type": "markdown",
      "metadata": {
        "id": "IURxX4s1vmys"
      },
      "source": [
        "Untuk cek jenis data yang ada di dalam array, gunakan method `dtype`."
      ]
    },
    {
      "cell_type": "code",
      "metadata": {
        "id": "B94z7hYmvwn1",
        "outputId": "a213a189-3aa6-4710-d0d7-73dbebd30861",
        "colab": {
          "base_uri": "https://localhost:8080/",
          "height": 33
        }
      },
      "source": [
        "arr1.dtype"
      ],
      "execution_count": null,
      "outputs": [
        {
          "output_type": "execute_result",
          "data": {
            "text/plain": [
              "dtype('int64')"
            ]
          },
          "metadata": {
            "tags": []
          },
          "execution_count": 7
        }
      ]
    },
    {
      "cell_type": "markdown",
      "metadata": {
        "id": "uM20KJswv1wP"
      },
      "source": [
        "Selain fungsi `array`, terdapat fungsi lain yang dapat digunakana  untuk membentuk array. Sebagai contoh `zeros` dan `ones`, meruapak sebuah fungsi untuk membentuk array dengan elemen berupa angka nol dan satu. Argumen tambahan yang diberikan berupa dimensi dari array yang ingin dibentuk."
      ]
    },
    {
      "cell_type": "code",
      "metadata": {
        "id": "nfhREp6ywN5s",
        "outputId": "5ff93162-0771-4e62-a230-448b5ee5497d",
        "colab": {
          "base_uri": "https://localhost:8080/",
          "height": 50
        }
      },
      "source": [
        "# array 2 baris dan 3 kolom\n",
        "np.zeros((2,3))"
      ],
      "execution_count": null,
      "outputs": [
        {
          "output_type": "execute_result",
          "data": {
            "text/plain": [
              "array([[0., 0., 0.],\n",
              "       [0., 0., 0.]])"
            ]
          },
          "metadata": {
            "tags": []
          },
          "execution_count": 9
        }
      ]
    },
    {
      "cell_type": "code",
      "metadata": {
        "id": "xgxN0rt4wmNm",
        "outputId": "83f6fc43-e3ac-4459-b240-769b06bd524c",
        "colab": {
          "base_uri": "https://localhost:8080/",
          "height": 33
        }
      },
      "source": [
        "# array dengan 10 elemen\n",
        "np.ones(10)"
      ],
      "execution_count": null,
      "outputs": [
        {
          "output_type": "execute_result",
          "data": {
            "text/plain": [
              "array([1., 1., 1., 1., 1., 1., 1., 1., 1., 1.])"
            ]
          },
          "metadata": {
            "tags": []
          },
          "execution_count": 10
        }
      ]
    },
    {
      "cell_type": "markdown",
      "metadata": {
        "id": "pXQgxbjJwwXF"
      },
      "source": [
        "Fungsi-fungsi lain yang dapat digunakan untuk membuat sebuah array dirangkum dalam tabel berikut:\n",
        "\n",
        "| Fungsi        | Deksripsi                                                |\n",
        "|:--------------|:---------------------------------------------------------|\n",
        "| array         | mengkonversi data input (list, tuple, array, atau tipe deret angka lainnya) menjadi ndarray |\n",
        "| asarray       | mengkonversi data input menjadi array tanpa mengcopy data yang dihasilkan jika data input adalah array|\n",
        "| arrange       | seperti fungsi `arrange` yang telah ada di python, namun menghasilkan array dan bukan list |\n",
        "| ones, ones_like | memproduksi sebuah array dnegan seluruh elemen berupa angka 1 dengan `shape` dan `dtype` yang diberikan. |\n",
        "|               | `ones_like` mengambil input array lainnya dan mengkonversinya menjadi array dengan elemen 1 tanpa mengubah dimensi dan jenis data di dalamnya|\n",
        "| zeros, zeros_like | seperti fungsi `ones` tapi menghasilkan array dengan nilai elemen 0 |\n",
        "| empty, empty_like | membuat array dengan mengalokasikan memori baru, tapi tidak mengisi array yang terbentuk dengan angka nol atau satu |\n",
        "|eye, identity | membuat sebuah N x N matriks identitas persegi    |"
      ]
    },
    {
      "cell_type": "markdown",
      "metadata": {
        "id": "lf-XE2zSzdCp"
      },
      "source": [
        "### 1.2 Jenis Data ndarray"
      ]
    },
    {
      "cell_type": "markdown",
      "metadata": {
        "id": "pMbObMRY386I"
      },
      "source": [
        "Jenis data merupakan sebuah objek spesial yang berisikan informasi yang diperlukan oleh ndarray untuk menginterpretasikan sebuah *chunk memory* sebagai bagian dari  jenis data tertentu."
      ]
    },
    {
      "cell_type": "code",
      "metadata": {
        "id": "nsZ0avOM4fti",
        "outputId": "d4deead6-a843-415d-8e7f-d0919be68f06",
        "colab": {
          "base_uri": "https://localhost:8080/",
          "height": 33
        }
      },
      "source": [
        "arr2 = np.array([1,2,3], dtype=np.float64)\n",
        "arr2.dtype"
      ],
      "execution_count": null,
      "outputs": [
        {
          "output_type": "execute_result",
          "data": {
            "text/plain": [
              "dtype('float64')"
            ]
          },
          "metadata": {
            "tags": []
          },
          "execution_count": 11
        }
      ]
    },
    {
      "cell_type": "markdown",
      "metadata": {
        "id": "ZaTCUlv14tJ2"
      },
      "source": [
        "Dtypes adalah bagian dari apa yang membuat NumPy begitu kuat dan fleksibel. Dalam kebanyakan kasus, numpy memetakan langsung ke representasi mesin yang mendasari, yang membuatnya mudah untuk membaca dan menulis aliran data biner disk dan juga untuk menyambung ke kode yang ditulis dalam bahasa tingkat rendah seperti C atau Fortran. Dtypes numerik diberi nama dengan cara yang sama: nama tipe, seperti float atau int, diikuti dengan angka yang menunjukkan jumlah bit per elemen. Nilai floating point presisi ganda standar (apa yang digunakan di balik objek float Python) membutuhkan 8 byte atau 64 bit. Jadi, tipe ini dikenal di NumPy sebagai float64. Untuk melihat daftar lengkap dari jenis data yang didukung oleh numpy, perhatikan tabel berikut:\n",
        "\n"
      ]
    },
    {
      "cell_type": "markdown",
      "metadata": {
        "id": "7oS7q5eQ7RW7"
      },
      "source": [
        "| Tipe           | Kode Tipe       | Deskripsi                                 |\n",
        "|:---------------|:----------------|:------------------------------------------|\n",
        "| int8, uint8    | i1, u1          | Signed dan unsigned 8-bit (1 byte) integer types|\n",
        "| int16, uint16  | i2, u2          | Signed dan unsigned 16-bit integer types  |\n",
        "| int32, uint32  | i4, u4          | Signed dan unsigned 32-bit integer types  |\n",
        "| int64, uint64  | i8, u8          | Signed dan unsigned 32-bit integer types  |\n",
        "| float16        | f2              | Half-precision floating point             |\n",
        "| float32        | f4 atau f       | Standard single-precision floating point  Kompatibel dengan C float                 |\n",
        "| float64, float128 | f8 atau d    | Standard double-precision floating point. Kompatibel dengan C double dan Python float object |\n",
        "| float128      | f16 atau g       | Extended-precision floating point         |\n",
        "| complex64, complex128, complex256 | c8, c16, c32 | Bilangan kompleks yang direpresentasikan oleh dua 32, 64, atau 128 float|\n",
        "| bool          | ?                 | Nilai boolean                            |\n",
        "| object        | 0                 | Python object type                       |\n",
        "| string_       | S                 | String                                   |\n",
        "| unicode_      | U                 | Unicode                                  |\n"
      ]
    },
    {
      "cell_type": "markdown",
      "metadata": {
        "id": "1PWyItA8-T35"
      },
      "source": [
        "Dengan menggunakan panduan tabel tersebut, kita dapat melakukan modifikasi jenis data pada array yang telah kita buat."
      ]
    },
    {
      "cell_type": "code",
      "metadata": {
        "id": "CEKEGBAkFu41",
        "outputId": "24c9ef4f-b094-4c02-9ea4-96d360a49447",
        "colab": {
          "base_uri": "https://localhost:8080/",
          "height": 33
        }
      },
      "source": [
        "arr2 = arr2.astype(np.int64)\n",
        "arr2.dtype"
      ],
      "execution_count": null,
      "outputs": [
        {
          "output_type": "execute_result",
          "data": {
            "text/plain": [
              "dtype('int64')"
            ]
          },
          "metadata": {
            "tags": []
          },
          "execution_count": 12
        }
      ]
    },
    {
      "cell_type": "markdown",
      "metadata": {
        "id": "-mNeuJLMF-lA"
      },
      "source": [
        "### 1.3 Operasi antara Array dan Scalar"
      ]
    },
    {
      "cell_type": "markdown",
      "metadata": {
        "id": "Af6HurHBHLIf"
      },
      "source": [
        "Array merupakan sebuah objek yang penting, sebab array memungkinkan kita melakukan operasi pada data tanpa menuliskan `for` loop. Operasi ini biasanya dinamai operasi tervektorisasi. Setiap operasi aritmatik antara array dengan ukuran elemen yang sama akan dilakukan secara *elementwise*. "
      ]
    },
    {
      "cell_type": "code",
      "metadata": {
        "id": "7fBrCCgCHtj1",
        "outputId": "83e2981e-d185-4ae5-9906-8242828b0e1e",
        "colab": {
          "base_uri": "https://localhost:8080/",
          "height": 50
        }
      },
      "source": [
        "arr = np.array([[1., 2., 3.], [4., 5., 6.]])\n",
        "\n",
        "# hitung invers masing-masing elemen\n",
        "1/arr"
      ],
      "execution_count": null,
      "outputs": [
        {
          "output_type": "execute_result",
          "data": {
            "text/plain": [
              "array([[1.        , 0.5       , 0.33333333],\n",
              "       [0.25      , 0.2       , 0.16666667]])"
            ]
          },
          "metadata": {
            "tags": []
          },
          "execution_count": 13
        }
      ]
    },
    {
      "cell_type": "code",
      "metadata": {
        "id": "fkzkqiSuH8US",
        "outputId": "7b380330-f22b-4ebc-f1d7-c0a236a059b4",
        "colab": {
          "base_uri": "https://localhost:8080/",
          "height": 50
        }
      },
      "source": [
        "arr - 1/arr"
      ],
      "execution_count": null,
      "outputs": [
        {
          "output_type": "execute_result",
          "data": {
            "text/plain": [
              "array([[0.        , 1.5       , 2.66666667],\n",
              "       [3.75      , 4.8       , 5.83333333]])"
            ]
          },
          "metadata": {
            "tags": []
          },
          "execution_count": 14
        }
      ]
    },
    {
      "cell_type": "markdown",
      "metadata": {
        "id": "Uc6RVWiSHs9S"
      },
      "source": [
        "### 1.4 Subset Array"
      ]
    },
    {
      "cell_type": "markdown",
      "metadata": {
        "id": "LkyxXgKLIMQd"
      },
      "source": [
        "Proses pengindeksan pada array secara prinsip akan berbeda berdasarkan dimensi yang dimiliki array tersebut."
      ]
    },
    {
      "cell_type": "code",
      "metadata": {
        "id": "5RjD8wg2I-62",
        "outputId": "643c4a2b-a5a5-4431-a653-6446d94d32a3",
        "colab": {
          "base_uri": "https://localhost:8080/",
          "height": 33
        }
      },
      "source": [
        "# subset array satu dimensi\n",
        "arr1[:3]"
      ],
      "execution_count": null,
      "outputs": [
        {
          "output_type": "execute_result",
          "data": {
            "text/plain": [
              "array([1, 1, 4])"
            ]
          },
          "metadata": {
            "tags": []
          },
          "execution_count": 15
        }
      ]
    },
    {
      "cell_type": "code",
      "metadata": {
        "id": "gFONSNfoJGRv",
        "outputId": "ce4c5a8e-cd69-42fa-8fdc-1704b5b4ae1c",
        "colab": {
          "base_uri": "https://localhost:8080/",
          "height": 33
        }
      },
      "source": [
        "# subset array 2 dimensi\n",
        "arr[1,[0,2]]"
      ],
      "execution_count": null,
      "outputs": [
        {
          "output_type": "execute_result",
          "data": {
            "text/plain": [
              "array([4., 6.])"
            ]
          },
          "metadata": {
            "tags": []
          },
          "execution_count": 18
        }
      ]
    },
    {
      "cell_type": "code",
      "metadata": {
        "id": "NgyxT8QcJotj",
        "outputId": "b455c783-1cd1-43a9-a8b8-3e9e5ea6b7f3",
        "colab": {
          "base_uri": "https://localhost:8080/",
          "height": 98
        }
      },
      "source": [
        "arr3d = np.array([[[1, 2, 3], [4, 5, 6]], [[7, 8, 9], [10, 11, 12]]])\n",
        "arr3d"
      ],
      "execution_count": null,
      "outputs": [
        {
          "output_type": "execute_result",
          "data": {
            "text/plain": [
              "array([[[ 1,  2,  3],\n",
              "        [ 4,  5,  6]],\n",
              "\n",
              "       [[ 7,  8,  9],\n",
              "        [10, 11, 12]]])"
            ]
          },
          "metadata": {
            "tags": []
          },
          "execution_count": 20
        }
      ]
    },
    {
      "cell_type": "code",
      "metadata": {
        "id": "5S99FD5cJTyZ",
        "outputId": "a6c16d3e-db22-4881-99d0-9b82c60c9dca",
        "colab": {
          "base_uri": "https://localhost:8080/",
          "height": 33
        }
      },
      "source": [
        "\n",
        "# subset array 3 dimensi\n",
        "arr3d[1,:][1,:]"
      ],
      "execution_count": null,
      "outputs": [
        {
          "output_type": "execute_result",
          "data": {
            "text/plain": [
              "array([10, 11, 12])"
            ]
          },
          "metadata": {
            "tags": []
          },
          "execution_count": 34
        }
      ]
    },
    {
      "cell_type": "markdown",
      "metadata": {
        "id": "P-hULoZRK4PL"
      },
      "source": [
        "## 2 Fungsi Matematika Universal pada Array"
      ]
    },
    {
      "cell_type": "markdown",
      "metadata": {
        "id": "hh6sstG8K-xF"
      },
      "source": [
        "Fungsi universal (*ufunc*) merupakan sebuah fungsi yang melakukan operasi secara *elementwise* terhadap ndarray. Kita dapat membayangkannya sebagai sebuah fungsi tervektorisasi yang mengambil sebuah input berupa satu atau beberapa nilai skalar dan menghasilkan satu atau beberapa nilai skalar.\n",
        "\n",
        "Terdapat dua macam fungsi universal yang akan umum digunakan, yaitu:\n",
        "1. **unary** : menerima input sebuah array\n",
        "2. **binary** : menerima input dua buah array "
      ]
    },
    {
      "cell_type": "markdown",
      "metadata": {
        "id": "qPo_XKLZuT3y"
      },
      "source": [
        "Berikut adalah ringkasan fungsi universal unary yang bisa digunakan:\n",
        "\n",
        "| Fungsi              | Deskripsi                                   |\n",
        "|:--------------------|:--------------------------------------------|\n",
        "| abs, fabs           | menghitung nilai absolut array numerik. Gunakan fabs sebagai alternatif komputasi yang lebih cepat untuk *non-complex-valued data*|\n",
        "| sqrt                | menghitung nilai akar kuadrat bilangan. Setara dengan array ** 0,5  |\n",
        "| square              | menghitung kuadrat bilangan. Setara dengan array ** 2 |\n",
        "| exp                 | menghitung nilai eksponen dari $e^x$ |\n",
        "| log, log10, log2, log1p | menghitung nilai log natural (basis e), log basis 10, log basis 2 dan log basis (1+x) |\n",
        "| sign                | menghitung *sign* masing-masing elemen: 1 (positif), 0 (nol), dan -1 (negatif) |\n",
        "| ceil                | melakukan pembulatan ke atas                |\n",
        "| floor               | melakukan pembulatan ke bawah               |\n",
        "| rint                | membulatkan nilai ke integer terdekat dengan tetap mempertahankan tipe data array |\n",
        "| modf                |Ubah bagian pecahan dan integral dari array sebagai array terpisah |\n",
        "| isnan               | menghasilkan nilai boolean yang mengidentifikasikan apakah elemen array merupakan missing value atau bukan |\n",
        "| isfinite, isinf     | menghasilkan nilai boolean yang mengidentifikasikan apakah elemen array merupakan bilangan finit atau bukan, dan sebaliknya |\n",
        "| cos, cosh, sin, sinh, tan, tanh | fungsi trigonometri biasa dan hiperbolik |\n",
        "| arccos, arccosh, arcsin, arcsinh, arctan, arctanh | fungsi inverse trigonometri |\n",
        "| logical_not         | menghitung nilai sebenarnya dari bukan (*not*) x |  "
      ]
    },
    {
      "cell_type": "code",
      "metadata": {
        "id": "Kc2wa3Kxx-sw"
      },
      "source": [
        "# sampel array\n",
        "arr1 = np.arange(10)\n",
        "arr2 = arr1 * 3"
      ],
      "execution_count": null,
      "outputs": []
    },
    {
      "cell_type": "code",
      "metadata": {
        "id": "BcwHPxTPyRmx",
        "outputId": "b2fd09cd-99d3-4b2f-fc7b-ba2e94b14c20",
        "colab": {
          "base_uri": "https://localhost:8080/",
          "height": 50
        }
      },
      "source": [
        "# akar kuadrat\n",
        "np.sqrt(arr1)"
      ],
      "execution_count": null,
      "outputs": [
        {
          "output_type": "execute_result",
          "data": {
            "text/plain": [
              "array([0.        , 1.        , 1.41421356, 1.73205081, 2.        ,\n",
              "       2.23606798, 2.44948974, 2.64575131, 2.82842712, 3.        ])"
            ]
          },
          "metadata": {
            "tags": []
          },
          "execution_count": 6
        }
      ]
    },
    {
      "cell_type": "code",
      "metadata": {
        "id": "TjX6jDvryb03",
        "outputId": "e4fea771-2f2a-452d-c111-364edc26eb5c",
        "colab": {
          "base_uri": "https://localhost:8080/",
          "height": 33
        }
      },
      "source": [
        "# sign\n",
        "np.sign(arr2)"
      ],
      "execution_count": null,
      "outputs": [
        {
          "output_type": "execute_result",
          "data": {
            "text/plain": [
              "array([0, 1, 1, 1, 1, 1, 1, 1, 1, 1])"
            ]
          },
          "metadata": {
            "tags": []
          },
          "execution_count": 7
        }
      ]
    },
    {
      "cell_type": "markdown",
      "metadata": {
        "id": "zCQr6dFCyiPE"
      },
      "source": [
        "Berikut adalah ringkasan dari fungsi binary:\n",
        "\n",
        "| Fungsi          | Deskripsi                                                  |\n",
        "|:----------------|:-----------------------------------------------------------|\n",
        "| add             | menjumlahkan elemen array                                  |\n",
        "| substract       | mengurangkan nilai elemen array pertama dengan array kedua |\n",
        "| multiply        | operasi perkalian elemen array                             |\n",
        "| divide, floor_divide | operasi pembagian                                     |\n",
        "| power           | operasi pemangkatan array pertama terhadap array kedua     |\n",
        "| maximum, fmax   | membandingkan dan mencari nilai maksimum antar dua elemen  |\n",
        "| minimum, fmin   | membandingkan dan mencari nilai minimum antar dua elemen   |\n",
        "| mod             | *element-wise modulus*                                     |\n",
        "| copysign        | melakukan copy sign nilai argumen kedua ke argumen pertama |\n",
        "| greater, greater_equal, less, less_equal, equal, not_equal | melakukan perbandingan  elemen array pertama dengan kedua |\n",
        "| logical_and, logical_or, logical_xor | melakukan operasi logik               |"
      ]
    },
    {
      "cell_type": "code",
      "metadata": {
        "id": "m5CmnQQv0rI1",
        "outputId": "16620326-cfc1-4f86-ae1a-12210abaa4fc",
        "colab": {
          "base_uri": "https://localhost:8080/",
          "height": 33
        }
      },
      "source": [
        "np.maximum(arr1,arr2)"
      ],
      "execution_count": null,
      "outputs": [
        {
          "output_type": "execute_result",
          "data": {
            "text/plain": [
              "array([ 0,  3,  6,  9, 12, 15, 18, 21, 24, 27])"
            ]
          },
          "metadata": {
            "tags": []
          },
          "execution_count": 8
        }
      ]
    },
    {
      "cell_type": "code",
      "metadata": {
        "id": "T2binFc-0zHs",
        "outputId": "a559d70e-0f1a-4d73-e567-6a136ee79d48",
        "colab": {
          "base_uri": "https://localhost:8080/",
          "height": 86
        }
      },
      "source": [
        "np.divide(arr2, arr1)"
      ],
      "execution_count": null,
      "outputs": [
        {
          "output_type": "stream",
          "text": [
            "/usr/local/lib/python3.6/dist-packages/ipykernel_launcher.py:1: RuntimeWarning: invalid value encountered in true_divide\n",
            "  \"\"\"Entry point for launching an IPython kernel.\n"
          ],
          "name": "stderr"
        },
        {
          "output_type": "execute_result",
          "data": {
            "text/plain": [
              "array([nan,  3.,  3.,  3.,  3.,  3.,  3.,  3.,  3.,  3.])"
            ]
          },
          "metadata": {
            "tags": []
          },
          "execution_count": 10
        }
      ]
    },
    {
      "cell_type": "markdown",
      "metadata": {
        "id": "Wyth0vX31Lth"
      },
      "source": [
        "## 3 Pemrosesan Data Menggunakan Array"
      ]
    },
    {
      "cell_type": "markdown",
      "metadata": {
        "id": "TmV0YA_PEUD5"
      },
      "source": [
        "Menggunakan array NumPy memungkinkan kita untuk mengekspresikan berbagai jenis tugas pemrosesan data sebagai ekspresi array yang ringkas yang mungkin memerlukan loop penulisan. Praktik mengganti loop eksplisit dengan ekspresi array ini biasanya disebut sebagai vektorisasi. Secara umum, operasi array vektorisasi sering kali satu atau dua (atau lebih) lipat lebih cepat daripada padanan Python murni mereka, dengan dampak terbesar dalam jenis perhitungan numerik."
      ]
    },
    {
      "cell_type": "markdown",
      "metadata": {
        "id": "xEYnYiImEmLU"
      },
      "source": [
        "### 3.1 Mengekspresikan Logika Bersyarat sebagai Operasi Array"
      ]
    },
    {
      "cell_type": "markdown",
      "metadata": {
        "id": "d_hcJqVyEpi-"
      },
      "source": [
        "Fungsi `where` merupakan bentuk tervektorisasi dari ekspresi `x if condition else y`. Misalkan kita memiliki array dengan elemen boolean dan dua buah array numerik:"
      ]
    },
    {
      "cell_type": "code",
      "metadata": {
        "id": "kC-IIWXGFRkY"
      },
      "source": [
        "xarr = np.array([1.1, 1.2, 1.3, 1.4, 1.5])\n",
        "yarr = np.array([2.1, 2.2, 2.3, 2.4, 2.5])\n",
        "cond = np.array([True, False, True, True, False])"
      ],
      "execution_count": null,
      "outputs": []
    },
    {
      "cell_type": "markdown",
      "metadata": {
        "id": "d8HEwv2nFiNU"
      },
      "source": [
        "Misalkan kita ingin mengambil nilai dari `xarr` setiap nilai dalam `cond` adalah `True` dan sebaliknya ambil nilai pada `yarr`. Penulisan loop untuk kondisi tersebut adalah sebagai berikut:"
      ]
    },
    {
      "cell_type": "code",
      "metadata": {
        "id": "28bk7jRBGChv",
        "outputId": "14ed938f-a327-46c2-a53f-be40807f2dd8",
        "colab": {
          "base_uri": "https://localhost:8080/",
          "height": 33
        }
      },
      "source": [
        "result = [(x if c else y) \n",
        "        for x, y, c in zip(xarr, yarr, cond)]\n",
        "\n",
        "result"
      ],
      "execution_count": null,
      "outputs": [
        {
          "output_type": "execute_result",
          "data": {
            "text/plain": [
              "[1.1, 2.2, 1.3, 1.4, 2.5]"
            ]
          },
          "metadata": {
            "tags": []
          },
          "execution_count": 5
        }
      ]
    },
    {
      "cell_type": "markdown",
      "metadata": {
        "id": "IPmxpoZMGoG0"
      },
      "source": [
        "Bentuk tervektorisasinya adalah sebagai berikut:"
      ]
    },
    {
      "cell_type": "code",
      "metadata": {
        "id": "BOnpfegFGrsa",
        "outputId": "36803dec-31a7-44bc-8466-3c9f19bb644b",
        "colab": {
          "base_uri": "https://localhost:8080/",
          "height": 33
        }
      },
      "source": [
        "result = np.where(cond, xarr, yarr)\n",
        "result"
      ],
      "execution_count": null,
      "outputs": [
        {
          "output_type": "execute_result",
          "data": {
            "text/plain": [
              "array([1.1, 2.2, 1.3, 1.4, 2.5])"
            ]
          },
          "metadata": {
            "tags": []
          },
          "execution_count": 6
        }
      ]
    },
    {
      "cell_type": "markdown",
      "metadata": {
        "id": "v8nsaH-dG9ht"
      },
      "source": [
        "### 3.2 Metode Matematik dan Statistik"
      ]
    },
    {
      "cell_type": "markdown",
      "metadata": {
        "id": "abf2M-_1HBxt"
      },
      "source": [
        "Serangkaian fungsi matematika yang menghitung statistik tentang seluruh array atau tentang data di sepanjang sumbu dapat diakses menggunakan array method. Agregasi (sering disebut reduksi) seperti sum, mean, dan standar deviasi dapat digunakan dengan memanggil metode instance array atau menggunakan fungsi NumPy:"
      ]
    },
    {
      "cell_type": "code",
      "metadata": {
        "id": "tYi53iGKHk_v",
        "outputId": "ce83acc2-c7c1-4f54-f4a0-eb6dacbe1d78",
        "colab": {
          "base_uri": "https://localhost:8080/",
          "height": 33
        }
      },
      "source": [
        "arr = np.random.randn(5, 4)\n",
        "arr.mean()"
      ],
      "execution_count": null,
      "outputs": [
        {
          "output_type": "execute_result",
          "data": {
            "text/plain": [
              "0.22830916575101073"
            ]
          },
          "metadata": {
            "tags": []
          },
          "execution_count": 7
        }
      ]
    },
    {
      "cell_type": "markdown",
      "metadata": {
        "id": "QxrqpxxhH0cq"
      },
      "source": [
        "Contoh lainnya adalah sebagai berikut:"
      ]
    },
    {
      "cell_type": "code",
      "metadata": {
        "id": "IKMYuTyhHqo5",
        "outputId": "d4325ebd-4882-4aed-94a9-0d235b56fc9b",
        "colab": {
          "base_uri": "https://localhost:8080/",
          "height": 66
        }
      },
      "source": [
        "arr = np.array([[0, 1, 2], [3, 4, 5], [6, 7, 8]])\n",
        "arr"
      ],
      "execution_count": null,
      "outputs": [
        {
          "output_type": "execute_result",
          "data": {
            "text/plain": [
              "array([[0, 1, 2],\n",
              "       [3, 4, 5],\n",
              "       [6, 7, 8]])"
            ]
          },
          "metadata": {
            "tags": []
          },
          "execution_count": 8
        }
      ]
    },
    {
      "cell_type": "code",
      "metadata": {
        "id": "N2KwIEl1HzT9",
        "outputId": "d737160c-9328-4955-d57f-d1825be34446",
        "colab": {
          "base_uri": "https://localhost:8080/",
          "height": 66
        }
      },
      "source": [
        "arr.cumsum(axis = 0)"
      ],
      "execution_count": null,
      "outputs": [
        {
          "output_type": "execute_result",
          "data": {
            "text/plain": [
              "array([[ 0,  1,  2],\n",
              "       [ 3,  5,  7],\n",
              "       [ 9, 12, 15]])"
            ]
          },
          "metadata": {
            "tags": []
          },
          "execution_count": 9
        }
      ]
    },
    {
      "cell_type": "code",
      "metadata": {
        "id": "SanZuE1vIDNG",
        "outputId": "d78b767d-841f-4330-fd91-c35ddb0839a7",
        "colab": {
          "base_uri": "https://localhost:8080/",
          "height": 33
        }
      },
      "source": [
        "arr.mean(axis = 1)"
      ],
      "execution_count": null,
      "outputs": [
        {
          "output_type": "execute_result",
          "data": {
            "text/plain": [
              "array([1., 4., 7.])"
            ]
          },
          "metadata": {
            "tags": []
          },
          "execution_count": 10
        }
      ]
    },
    {
      "cell_type": "markdown",
      "metadata": {
        "id": "baCQxXwpISWs"
      },
      "source": [
        "Fungsi dasar metode statistik yang dapat digunakan pada array dirangkum pada tabel berikut:\n",
        "\n",
        "| Method        | Deskripsi                               |\n",
        "|:--------------|:----------------------------------------|\n",
        "| sum           | jumlah seluruh elemen array atau sepanjang axis |\n",
        "| mean          | mean aritmatik array                    |\n",
        "| std, var      | simpangan dan varians                   |\n",
        "| min, max      | nilai minimum dan maksimum              |\n",
        "| argmin, agrmax| indeks minimum dan maksimum elemen      |\n",
        "| cumsum        | jumlah kumulatif elemen                 |\n",
        "| cumprod       | produk kumulatif elemen                 |"
      ]
    },
    {
      "cell_type": "markdown",
      "metadata": {
        "id": "wHFHp2LKJnGQ"
      },
      "source": [
        "## 4 Referensi"
      ]
    },
    {
      "cell_type": "markdown",
      "metadata": {
        "id": "PTqurhfjJpjY"
      },
      "source": [
        "Jika pembaca ingin mempelajari modul Numpy lebih lanjut, gunakan referensi pada tautan berikut:\n",
        "\n",
        "1. [Tutorial Numpy](https://numpy.org/learn/)\n",
        "2. [Numpy Cheat Sheet](https://s3.amazonaws.com/assets.datacamp.com/blog_assets/Numpy_Python_Cheat_Sheet.pdf)"
      ]
    }
  ]
}