{
  "nbformat": 4,
  "nbformat_minor": 0,
  "metadata": {
    "colab": {
      "name": "basic_python.ipynb",
      "provenance": [],
      "collapsed_sections": [],
      "toc_visible": true
    },
    "kernelspec": {
      "name": "python3",
      "display_name": "Python 3"
    }
  },
  "cells": [
    {
      "cell_type": "markdown",
      "metadata": {
        "id": "rMq8SFcanU9Y"
      },
      "source": [
        "# Dasar-Dasar Bahasa Pemrograman Python"
      ]
    },
    {
      "cell_type": "markdown",
      "metadata": {
        "id": "zzYgdY1Xnb61"
      },
      "source": [
        "Pada tutorial kali ini, kita akan belajar dasar-dasar bahasa pemrograman python. Materi ini akan menjadi bekal bagi pembaca sebelum lebih jauh masuk dalam kegiatan pemrograman menggunakan python. Adapun yang akan dibahas dalam tutorial kali ini, antara lain:\n",
        "\n",
        "1. Sintaks dasar python\n",
        "2. Operator dalam python\n",
        "3. Tipe data python\n",
        "4. Percabangan dan perulangan\n",
        "5. Fungsi"
      ]
    },
    {
      "cell_type": "markdown",
      "metadata": {
        "id": "nWRs5rZxoapu"
      },
      "source": [
        "## 1 Sintaks Dasar Python"
      ]
    },
    {
      "cell_type": "markdown",
      "metadata": {
        "id": "ixQNaQmYofyO"
      },
      "source": [
        "### 1.1 Statement"
      ]
    },
    {
      "cell_type": "markdown",
      "metadata": {
        "id": "7xu0YGAPoqgv"
      },
      "source": [
        "Statement merupakan seluruh perintah yang dieksekusi di python."
      ]
    },
    {
      "cell_type": "code",
      "metadata": {
        "id": "71JPL0bJnMzf",
        "outputId": "6c2fe563-c9c5-483e-b669-5bba4941b2a9",
        "colab": {
          "base_uri": "https://localhost:8080/"
        }
      },
      "source": [
        "1 + 2"
      ],
      "execution_count": 1,
      "outputs": [
        {
          "output_type": "execute_result",
          "data": {
            "text/plain": [
              "3"
            ]
          },
          "metadata": {
            "tags": []
          },
          "execution_count": 1
        }
      ]
    },
    {
      "cell_type": "markdown",
      "metadata": {
        "id": "ZxJK5VjEpT7b"
      },
      "source": [
        "### 1.2 Baris dan Indentasi"
      ]
    },
    {
      "cell_type": "markdown",
      "metadata": {
        "id": "VS7jvZtupXqk"
      },
      "source": [
        "Python tidak menggunakan tanda { } untuk menandai blok / grup kode. Blok kode di python menggunakan tanda indentasi (spasi). Jumlah spasi untuk setiap baris yang ada dalam satu blok kode harus sama. Contoh yang benar adalah sebagai berikut:"
      ]
    },
    {
      "cell_type": "code",
      "metadata": {
        "id": "9mLsjx3Vpcip",
        "outputId": "cb74f373-355b-42f5-f3fe-dc5eb9eeb43f",
        "colab": {
          "base_uri": "https://localhost:8080/"
        }
      },
      "source": [
        "nilai = 60\n",
        "\n",
        "if nilai >= 75:\n",
        "  print(\"lulus dengan nilai\", nilai)\n",
        "else:\n",
        "  print(\"tidak lulus\")"
      ],
      "execution_count": 5,
      "outputs": [
        {
          "output_type": "stream",
          "text": [
            "tidak lulus\n"
          ],
          "name": "stdout"
        }
      ]
    },
    {
      "cell_type": "markdown",
      "metadata": {
        "id": "NJLYOMAIqInX"
      },
      "source": [
        "### 1.3 Tanda Kutip "
      ]
    },
    {
      "cell_type": "markdown",
      "metadata": {
        "id": "LNmdAL09qRIi"
      },
      "source": [
        "Python menggunakan tanda kutip tunggal (‘), ganda (“), maupun triple (”’ atau “””) untuk menandai string, sepanjang stringnya diawali oleh tanda kutip yang sama di awal dan akhir string. "
      ]
    },
    {
      "cell_type": "code",
      "metadata": {
        "id": "2nx1ESsBqdPg",
        "outputId": "ccd78099-ce5a-4aea-988d-36174de743c9",
        "colab": {
          "base_uri": "https://localhost:8080/",
          "height": 33
        }
      },
      "source": [
        "print('saya')"
      ],
      "execution_count": null,
      "outputs": [
        {
          "output_type": "stream",
          "text": [
            "saya\n"
          ],
          "name": "stdout"
        }
      ]
    },
    {
      "cell_type": "code",
      "metadata": {
        "id": "unXHPKrwqpau",
        "outputId": "2b4eeb5c-8af3-4488-c517-d45132f83301",
        "colab": {
          "base_uri": "https://localhost:8080/"
        }
      },
      "source": [
        "print('my name is \"Andi\"')"
      ],
      "execution_count": 6,
      "outputs": [
        {
          "output_type": "stream",
          "text": [
            "my name is \"Andi\"\n"
          ],
          "name": "stdout"
        }
      ]
    },
    {
      "cell_type": "code",
      "metadata": {
        "id": "YACIEOzVq6dx",
        "outputId": "5c33c230-3938-419a-faff-749e331155e9",
        "colab": {
          "base_uri": "https://localhost:8080/",
          "height": 33
        }
      },
      "source": [
        "print(\"my name is \\\"Andi\\\"\")"
      ],
      "execution_count": null,
      "outputs": [
        {
          "output_type": "stream",
          "text": [
            "my name is \"Andi\"\n"
          ],
          "name": "stdout"
        }
      ]
    },
    {
      "cell_type": "code",
      "metadata": {
        "id": "I0gD1_KcrkUL",
        "outputId": "4e0a3df3-0252-4a52-ded0-f94bf863ca43",
        "colab": {
          "base_uri": "https://localhost:8080/",
          "height": 33
        }
      },
      "source": [
        "print(\"my name is 'Andi'\")"
      ],
      "execution_count": null,
      "outputs": [
        {
          "output_type": "stream",
          "text": [
            "my name is 'Andi'\n"
          ],
          "name": "stdout"
        }
      ]
    },
    {
      "cell_type": "code",
      "metadata": {
        "id": "7p9gf__srrqt",
        "outputId": "be5fe6a5-24e8-4374-b314-f9223c94666a",
        "colab": {
          "base_uri": "https://localhost:8080/"
        }
      },
      "source": [
        "print('''\n",
        "Saya suka \n",
        "makan bakso\n",
        "''')"
      ],
      "execution_count": 7,
      "outputs": [
        {
          "output_type": "stream",
          "text": [
            "\n",
            "Saya suka \n",
            "makan bakso\n",
            "\n"
          ],
          "name": "stdout"
        }
      ]
    },
    {
      "cell_type": "markdown",
      "metadata": {
        "id": "wv0ZKoKXsu8Z"
      },
      "source": [
        "### 1.4 Variabel"
      ]
    },
    {
      "cell_type": "markdown",
      "metadata": {
        "id": "I-YpvJgVs5JA"
      },
      "source": [
        "Di python, variabel tidak perlu dideklarasikan secara eksplisit. Deklarasi atau pembuatan variabel terjadi secara otomatis pada saat kita memberi (menugaskan) suatu nilai ke variabel. Tanda sama dengan ( = ) digunakan untuk memberikan nilai ke variabel."
      ]
    },
    {
      "cell_type": "code",
      "metadata": {
        "id": "euxIJR4OtC_e",
        "outputId": "2d7ea099-0f77-47ee-cb8b-a69e294c42e8",
        "colab": {
          "base_uri": "https://localhost:8080/"
        }
      },
      "source": [
        "a = 1+2 +3 \n",
        "a"
      ],
      "execution_count": 9,
      "outputs": [
        {
          "output_type": "execute_result",
          "data": {
            "text/plain": [
              "6"
            ]
          },
          "metadata": {
            "tags": []
          },
          "execution_count": 9
        }
      ]
    },
    {
      "cell_type": "markdown",
      "metadata": {
        "id": "p9jfr5-rrjnU"
      },
      "source": [
        "### 1.5 Tanda Pagar"
      ]
    },
    {
      "cell_type": "markdown",
      "metadata": {
        "id": "aR0A7bINsMGg"
      },
      "source": [
        "Tanda pagar (#) digunakan untuk menandai komentar di python. Komentar tidak akan diproses oleh interpreter Python. Komentar hanya berguna untuk programmer untuk memudahkan memahami maksud dari kode."
      ]
    },
    {
      "cell_type": "code",
      "metadata": {
        "id": "psoe6rzQsSyS",
        "outputId": "89717799-87fd-4d0d-ce98-1a9c23ed133e",
        "colab": {
          "base_uri": "https://localhost:8080/"
        }
      },
      "source": [
        "# jumlahkan angka 1 dan 2 dan simpan dalam variabel dgn nama a\n",
        "a = 1+2\n",
        "a"
      ],
      "execution_count": 10,
      "outputs": [
        {
          "output_type": "execute_result",
          "data": {
            "text/plain": [
              "3"
            ]
          },
          "metadata": {
            "tags": []
          },
          "execution_count": 10
        }
      ]
    },
    {
      "cell_type": "markdown",
      "metadata": {
        "id": "QLyPhYJVtbKz"
      },
      "source": [
        "## 2 Operator"
      ]
    },
    {
      "cell_type": "markdown",
      "metadata": {
        "id": "rMw0m5oStelG"
      },
      "source": [
        "Operator merupakan simbol atau kata kunci (*keyword*) yang dapat dioperasikan pada sebuah atau beberapa nilai dan melakukan operasi matematika. Contoh: operator `*` digunakan untuk mengalikan dua buah bilangan `x * y`\n",
        "\n"
      ]
    },
    {
      "cell_type": "markdown",
      "metadata": {
        "id": "1D4ixYK5vBaR"
      },
      "source": [
        "### 2.1 Operator Matematika"
      ]
    },
    {
      "cell_type": "markdown",
      "metadata": {
        "id": "mdZleJuEvEio"
      },
      "source": [
        "Operator-operator matematika yang ada di python antara lain:\n",
        "\n",
        "| Tipe       | Operator  | Deskripsi                    |\n",
        "|:-----------|:----------|:-----------------------------|\n",
        "| Unary      | `-`       | menunjukkan bil. positif atau negatif |\n",
        "| Binary     | `+`, `-`  | penjumlahan dan pengurangan  |\n",
        "|            | `*`, `/`  | perkalian dan pembagian      |\n",
        "|            | `%`       | modulo - menghitung sisa pembagian |\n",
        "|            | `**`      | pemangkatan                  |\n",
        "|            | `//`      | pembagian integer (tanpa sisa bagi) |"
      ]
    },
    {
      "cell_type": "code",
      "metadata": {
        "id": "qCKU2G0jwC54",
        "outputId": "2d1efb10-0668-48be-c27e-a9059a4608e6",
        "colab": {
          "base_uri": "https://localhost:8080/"
        }
      },
      "source": [
        "(1 + 2) // 3 ** 2 % 9"
      ],
      "execution_count": 13,
      "outputs": [
        {
          "output_type": "execute_result",
          "data": {
            "text/plain": [
              "0"
            ]
          },
          "metadata": {
            "tags": []
          },
          "execution_count": 13
        }
      ]
    },
    {
      "cell_type": "markdown",
      "metadata": {
        "id": "hxe4o_WQwd4f"
      },
      "source": [
        "### 2.2 Operator Perbandingan"
      ]
    },
    {
      "cell_type": "markdown",
      "metadata": {
        "id": "PO1CxsikwjFp"
      },
      "source": [
        "Operator perbandingan atau relasional merupakan operator yang digunakan untuk membandingkan dua buah nilai. \n",
        "\n",
        "| Operator |  Deksripsi                                                       |\n",
        "|:---------|:-----------------------------------------------------------------|\n",
        "| `==`     | menghasilkan `True` jika kedua nilai sama                        |\n",
        "| `!=`     | menghasilkan `True` jika kedua nilai tidak sama                  |\n",
        "| `>`      | menghasilkan `True` jika nilai sebelah kiri lebih besar          |\n",
        "| `<`      | menghasilkan `True` jika nilai sebelah kiri lebih kecil          |\n",
        "| $\\ge$    | menghasilkan `True` jika nilai sebelah kiri lebih besar atau sama dengan nilai sebelah kanan |\n",
        "| $\\le$    | menghasilkan `True` jika nilai sebelah kiri lebih kecil atau sama dengan nilai sebelah kanan |\n",
        "  "
      ]
    },
    {
      "cell_type": "code",
      "metadata": {
        "id": "1f7T7Dk_yKKU",
        "outputId": "18f41e2e-8bb8-421d-cbdc-e7752d827846",
        "colab": {
          "base_uri": "https://localhost:8080/"
        }
      },
      "source": [
        "x = 2\n",
        "y = 3\n",
        "\n",
        "# cek\n",
        "(x+y) >= (x**2 % y*2)"
      ],
      "execution_count": 14,
      "outputs": [
        {
          "output_type": "execute_result",
          "data": {
            "text/plain": [
              "True"
            ]
          },
          "metadata": {
            "tags": []
          },
          "execution_count": 14
        }
      ]
    },
    {
      "cell_type": "markdown",
      "metadata": {
        "id": "26XYkXiK1ORR"
      },
      "source": [
        "### 2.3 Operator Logik"
      ]
    },
    {
      "cell_type": "markdown",
      "metadata": {
        "id": "Gjy8AY0y1TEs"
      },
      "source": [
        "Terdapat sejumlah operator logik yang di dukung oleh python, antara lain:\n",
        "\n",
        "| Operator  | Deskripsi                            |\n",
        "|:----------|:-------------------------------------|\n",
        "| `and`     | kedua operand bernilai `True` maka hasilnya `True`|\n",
        "| `or`      | salah satu operand bernilai `True`  maka hasilnya `True`|\n",
        "| `not`     | menghasilkan negasi dari kondisi yang disebutkan |"
      ]
    },
    {
      "cell_type": "code",
      "metadata": {
        "id": "qJrKEX5-2HM4",
        "outputId": "f8acc7a6-7b6e-4e4d-f135-fd267fa34d3d",
        "colab": {
          "base_uri": "https://localhost:8080/",
          "height": 33
        }
      },
      "source": [
        "x = 2\n",
        "y = 3\n",
        "\n",
        "# cek\n",
        "(x+y >= y**2) and not (x < y)"
      ],
      "execution_count": null,
      "outputs": [
        {
          "output_type": "execute_result",
          "data": {
            "text/plain": [
              "False"
            ]
          },
          "metadata": {
            "tags": []
          },
          "execution_count": 28
        }
      ]
    },
    {
      "cell_type": "markdown",
      "metadata": {
        "id": "aVlPVnXs2g7g"
      },
      "source": [
        "## 3 Tipe Data"
      ]
    },
    {
      "cell_type": "markdown",
      "metadata": {
        "id": "zisUwGg32jcc"
      },
      "source": [
        "Python memilik beberapa tipe data, pada kali ini terdapat enam tipe data yang akan dipelajari, yaitu:\n",
        "*   Number (Bilangan)\n",
        "*   String\n",
        "*   List\n",
        "*   Tuple\n",
        "*   Set\n",
        "*   Dictionary\n"
      ]
    },
    {
      "cell_type": "markdown",
      "metadata": {
        "id": "ldxWA3Mo2p-p"
      },
      "source": [
        "### 3.1 Number"
      ]
    },
    {
      "cell_type": "markdown",
      "metadata": {
        "id": "bCuGk2G12smA"
      },
      "source": [
        "Tipe data bilangan yang umum ada 2 yaitu, integer dan float. Integer adalah bilangan bulat, sedangkan float adalah bilangan pecahan (desimal). Selain itu ada tipe bilangan lain, yaitu bilangan kompleks yaitu bilangan yang memiliki bagian real dan imajiner."
      ]
    },
    {
      "cell_type": "code",
      "metadata": {
        "id": "m32u__Lb2xcc",
        "outputId": "e0cfa3e2-224b-44c0-e4b6-d34dbdd22bc3",
        "colab": {
          "base_uri": "https://localhost:8080/",
          "height": 66
        }
      },
      "source": [
        "x = 5 \n",
        "print(x, \"tipenya adalah \", type(x))\n",
        "x = 2.0\n",
        "print(x, \"tipenya adalah \", type(x))\n",
        "x = 1+2j\n",
        "print(x, \"tipenya adalah \",type(x))"
      ],
      "execution_count": null,
      "outputs": [
        {
          "output_type": "stream",
          "text": [
            "5 tipenya adalah  <class 'int'>\n",
            "2.0 tipenya adalah  <class 'float'>\n",
            "(1+2j) tipenya adalah  <class 'complex'>\n"
          ],
          "name": "stdout"
        }
      ]
    },
    {
      "cell_type": "markdown",
      "metadata": {
        "id": "SnfPMGoL3Arj"
      },
      "source": [
        "### 3.2 String"
      ]
    },
    {
      "cell_type": "markdown",
      "metadata": {
        "id": "TZh_HJiycqtZ"
      },
      "source": [
        "\n",
        "Satu atau serangkaian karakter yang diletakkan diantara tanda kutip, baik tanda kutip tunggal ( ‘ ) maupun ganda ( ” ). Huruf, angka, maupun karakter lainnya yang digabung menjadi teks adalah contoh string.\n",
        "\n",
        "String adalah tipe data yang anggotanya berurut dan memiliki indeks. Indeks dimulai dari angka 0 bila dimulai dari depan dan -1 bila diindeks dari belakang. Tiap karakter bisa diakses menggunakan indeksnya dengan formatnamastring[indeks] . Pada string juga bisa dilakukan slicing atau mengakses sekelompok substring dengan format namastring[awal:akhir]. Untuk jelasnya bisa diperhatikan contoh berikut."
      ]
    },
    {
      "cell_type": "code",
      "metadata": {
        "id": "s_29WpVjdANc",
        "outputId": "7635b4f7-512e-4ea5-910e-69adbbea6948",
        "colab": {
          "base_uri": "https://localhost:8080/"
        }
      },
      "source": [
        "kalimat = \"Saya suka Makan\"\n",
        "\n",
        "print(kalimat)      # print string lengkap\n",
        "print(kalimat[7])   # print karakter pertama\n",
        "print(kalimat[-1])  # print karakter terakhir\n",
        "print(kalimat[4:7]) # print dari indeks 4 - 6\n",
        "print(kalimat[:4])  # print dari indeks 0 - 3"
      ],
      "execution_count": 15,
      "outputs": [
        {
          "output_type": "stream",
          "text": [
            "Saya suka Makan\n",
            "k\n",
            "n\n",
            " su\n",
            "Saya\n"
          ],
          "name": "stdout"
        }
      ]
    },
    {
      "cell_type": "markdown",
      "metadata": {
        "id": "TVMBzSLo3Ln9"
      },
      "source": [
        "### 3.3 List"
      ]
    },
    {
      "cell_type": "markdown",
      "metadata": {
        "id": "yq9Y-vqjdG_w"
      },
      "source": [
        "\n",
        "tipe data yang berisi item yang berurut. Seperti halnya tipe data string, tiap item (anggota) list memiliki indeks sesuai dengan urutannya. Indeks dimulai dari 0 dan bukan dari 1.\n",
        "\n",
        "List bisa berisi anggota dengan tipe yang sama maupun berbeda. Untuk mendeklarasikan list, digunakan tanda kurung [ ] dan masing-masing anggotanya dipisahkan oleh tanda koma."
      ]
    },
    {
      "cell_type": "markdown",
      "metadata": {
        "id": "jFsfJMRbfBV5"
      },
      "source": [
        "Untuk mengakses item dari list caranya adalah dengan memanggil nama list diikuti indeks dari item yang bersangkutan, yaitu dengan format namalist[index]\n",
        "Selain itu bisa juga dilakukan pengaksesan terhadap sejumlah item dari indeks ke indeks. Hal ini disebut slicing. Contohnya sebagai berikut:"
      ]
    },
    {
      "cell_type": "code",
      "metadata": {
        "id": "n64uYTbYfGfR",
        "outputId": "4a0b99b2-a342-4fab-9e5b-b743bde0a600",
        "colab": {
          "base_uri": "https://localhost:8080/"
        }
      },
      "source": [
        "x = [5,10,15,20,25,30,35,40]\n",
        "\n",
        "a = x[2] # ambil elemen ke 3\n",
        "b = x[:3] # ambil elemen indeks 0-2\n",
        "c = x[5:] # ambil seluruh elemen list dari indeks ke 5\n",
        "\n",
        "print (a,b,c, sep=\"\\n\")"
      ],
      "execution_count": 19,
      "outputs": [
        {
          "output_type": "stream",
          "text": [
            "15\n",
            "[5, 10, 15]\n",
            "[30, 35, 40]\n"
          ],
          "name": "stdout"
        }
      ]
    },
    {
      "cell_type": "code",
      "metadata": {
        "id": "NJmHZbc0-Yds",
        "outputId": "4029b975-5165-477a-fff9-ee839ea84a55",
        "colab": {
          "base_uri": "https://localhost:8080/"
        }
      },
      "source": [
        "# mengubah nilai elemen 1 dan 5\n",
        "x[0], x[4]= True, 'Saya'\n",
        "x[2] = 0\n",
        "\n",
        "print(x)"
      ],
      "execution_count": 20,
      "outputs": [
        {
          "output_type": "stream",
          "text": [
            "[True, 10, 0, 20, 'Saya', 30, 35, 40]\n"
          ],
          "name": "stdout"
        }
      ]
    },
    {
      "cell_type": "code",
      "metadata": {
        "id": "WIv2Q2pC-1f7",
        "outputId": "637b574c-135f-4fc2-963f-d6b1660c0946",
        "colab": {
          "base_uri": "https://localhost:8080/",
          "height": 33
        }
      },
      "source": [
        "# menambahkan elemen baru pada list\n",
        "x.insert(0, \"first\")\n",
        "x.append(\"last\")\n",
        "\n",
        "print(x)"
      ],
      "execution_count": null,
      "outputs": [
        {
          "output_type": "stream",
          "text": [
            "['first', True, 10, 15, 20, 'Saya', 30, 35, 40, 'last']\n"
          ],
          "name": "stdout"
        }
      ]
    },
    {
      "cell_type": "code",
      "metadata": {
        "id": "B-cPoAyD-udb"
      },
      "source": [
        "# menghapus list\n",
        "del x\n"
      ],
      "execution_count": null,
      "outputs": []
    },
    {
      "cell_type": "code",
      "metadata": {
        "id": "2BBO5ArR_KfO",
        "outputId": "6aa497bc-10d8-4eba-a8d6-7c1a0d02f620",
        "colab": {
          "base_uri": "https://localhost:8080/",
          "height": 161
        }
      },
      "source": [
        "print(x)"
      ],
      "execution_count": null,
      "outputs": [
        {
          "output_type": "error",
          "ename": "NameError",
          "evalue": "ignored",
          "traceback": [
            "\u001b[0;31m---------------------------------------------------------------------------\u001b[0m",
            "\u001b[0;31mNameError\u001b[0m                                 Traceback (most recent call last)",
            "\u001b[0;32m<ipython-input-42-fc17d851ef81>\u001b[0m in \u001b[0;36m<module>\u001b[0;34m()\u001b[0m\n\u001b[0;32m----> 1\u001b[0;31m \u001b[0mprint\u001b[0m\u001b[0;34m(\u001b[0m\u001b[0mx\u001b[0m\u001b[0;34m)\u001b[0m\u001b[0;34m\u001b[0m\u001b[0;34m\u001b[0m\u001b[0m\n\u001b[0m",
            "\u001b[0;31mNameError\u001b[0m: name 'x' is not defined"
          ]
        }
      ]
    },
    {
      "cell_type": "markdown",
      "metadata": {
        "id": "deZwp6b_3lXG"
      },
      "source": [
        "### 3.4 Tuple"
      ]
    },
    {
      "cell_type": "markdown",
      "metadata": {
        "id": "omMTXMreflf_"
      },
      "source": [
        "Jenis data lain yang mirip dengan list. Perbedaannya dengan list adalah anggotanya tidak bisa diubah (immutable). List bersifat mutable, sedangkan tuple bersifat immutable. Sekali tuple dibuat, maka isinya tidak bisa dimodifikasi lagi."
      ]
    },
    {
      "cell_type": "code",
      "metadata": {
        "id": "taMFj6d9gZNw",
        "outputId": "e2d8de20-046a-4405-98e2-1ea879eca8f6",
        "colab": {
          "base_uri": "https://localhost:8080/",
          "height": 66
        }
      },
      "source": [
        "white = (255,255, 255)\n",
        "red = (255,0,0)\n",
        "print(white)\n",
        "print(red[0])\n",
        "print(red[1])\n"
      ],
      "execution_count": null,
      "outputs": [
        {
          "output_type": "stream",
          "text": [
            "(255, 255, 255)\n",
            "255\n",
            "0\n"
          ],
          "name": "stdout"
        }
      ]
    },
    {
      "cell_type": "code",
      "metadata": {
        "id": "iMy1J--xgpBG",
        "outputId": "3e9ba11e-bf69-4d46-e3bf-7191f895a68d",
        "colab": {
          "base_uri": "https://localhost:8080/",
          "height": 177
        }
      },
      "source": [
        "# tuple bersifat immutable, bila kita run kode ini, akan memunculkan error\n",
        "red[0] = 128"
      ],
      "execution_count": null,
      "outputs": [
        {
          "output_type": "error",
          "ename": "TypeError",
          "evalue": "ignored",
          "traceback": [
            "\u001b[0;31m---------------------------------------------------------------------------\u001b[0m",
            "\u001b[0;31mTypeError\u001b[0m                                 Traceback (most recent call last)",
            "\u001b[0;32m<ipython-input-36-751394a38c7e>\u001b[0m in \u001b[0;36m<module>\u001b[0;34m()\u001b[0m\n\u001b[1;32m      1\u001b[0m \u001b[0;31m# tuple bersifat immutable, bila kita run kode ini, akan memunculkan error\u001b[0m\u001b[0;34m\u001b[0m\u001b[0;34m\u001b[0m\u001b[0;34m\u001b[0m\u001b[0m\n\u001b[0;32m----> 2\u001b[0;31m \u001b[0mred\u001b[0m\u001b[0;34m[\u001b[0m\u001b[0;36m0\u001b[0m\u001b[0;34m]\u001b[0m \u001b[0;34m=\u001b[0m \u001b[0;36m128\u001b[0m\u001b[0;34m\u001b[0m\u001b[0;34m\u001b[0m\u001b[0m\n\u001b[0m",
            "\u001b[0;31mTypeError\u001b[0m: 'tuple' object does not support item assignment"
          ]
        }
      ]
    },
    {
      "cell_type": "markdown",
      "metadata": {
        "id": "R027VbLk3vrM"
      },
      "source": [
        "### 3.5 Set"
      ]
    },
    {
      "cell_type": "markdown",
      "metadata": {
        "id": "kinQXnFbgy9Q"
      },
      "source": [
        "Salah satu tipe data di Python yang tidak berurut (unordered).Set memiliki anggota yang unik (tidak ada duplikasi). Jadi misalnya kalau kita meletakkan dua anggota yang sama di dalam set, maka otomatis set akan menghilangkan yang salah satunya.\n",
        "\n",
        "Set dibuat dengan meletakkan anggota – anggotanya di dalam tanda kurung kurawal { }, dipisahkan menggunakan tanda koma. Kita juga bisa membuat set dari list dengan memasukkan list ke dalam fungsi set()"
      ]
    },
    {
      "cell_type": "code",
      "metadata": {
        "id": "KcazI8pNhEhC",
        "outputId": "343557a7-8e74-468e-fbe9-74bc8c500409",
        "colab": {
          "base_uri": "https://localhost:8080/"
        }
      },
      "source": [
        "# set integer \n",
        "my_set = {1,2,3} \n",
        "print(my_set)"
      ],
      "execution_count": 21,
      "outputs": [
        {
          "output_type": "stream",
          "text": [
            "{1, 2, 3}\n"
          ],
          "name": "stdout"
        }
      ]
    },
    {
      "cell_type": "code",
      "metadata": {
        "id": "BYAk_Zl9hPLV",
        "outputId": "b41419cf-e986-4ec4-d678-24aaf21c2583",
        "colab": {
          "base_uri": "https://localhost:8080/"
        }
      },
      "source": [
        "# set dengan menggunakan fungsi set() \n",
        "my_set = set([1,2,3]) \n",
        "print(my_set) "
      ],
      "execution_count": 22,
      "outputs": [
        {
          "output_type": "stream",
          "text": [
            "{1, 2, 3}\n"
          ],
          "name": "stdout"
        }
      ]
    },
    {
      "cell_type": "code",
      "metadata": {
        "id": "U9wl5Oc3hSYd"
      },
      "source": [
        "# bila kita mengisi duplikasi, set akan menghilangkan salah satu \n",
        "my_set = {1,2,2,3,3,3} \n",
        "print(my_set) "
      ],
      "execution_count": null,
      "outputs": []
    },
    {
      "cell_type": "markdown",
      "metadata": {
        "id": "5JL2qf4A3258"
      },
      "source": [
        "### 3.6 Dictionary"
      ]
    },
    {
      "cell_type": "markdown",
      "metadata": {
        "id": "fMaUVjYVhe35"
      },
      "source": [
        "Tipe data yang tiap anggotanya terdiri dari pasangan kunci-nilai (key-value). Mirip dengan kamus dimana ada kata ada arti. Dictionary umumnya dipakai untuk data yang besar dan untuk mengakses anggota data secara acak. Anggota dictionary tidak memiliki indeks.\n",
        "\n",
        "Dictionary dideklarasikan dengan menggunakan tanda kurung kurawal { }, dimana anggotanya memiliki bentuk kunci:nilai atau key:value dan tiap anggota dipisah tanda koma. Kunci dan nilainya bisa memiliki tipe sembarang."
      ]
    },
    {
      "cell_type": "code",
      "metadata": {
        "id": "gNvA9lvgh_f4",
        "outputId": "102a0bae-8c94-4cba-b404-601d5f10597b",
        "colab": {
          "base_uri": "https://localhost:8080/",
          "height": 33
        }
      },
      "source": [
        "d = {'one':'satu', 'two':'dua', 'three':3}\n",
        "print(d)"
      ],
      "execution_count": null,
      "outputs": [
        {
          "output_type": "stream",
          "text": [
            "{'one': 'satu', 'two': 'dua', 'three': 3}\n"
          ],
          "name": "stdout"
        }
      ]
    },
    {
      "cell_type": "code",
      "metadata": {
        "id": "iMQhP60aiuJv",
        "outputId": "7225ef98-d4ab-42a1-b56d-5cdd931cc2dd",
        "colab": {
          "base_uri": "https://localhost:8080/",
          "height": 33
        }
      },
      "source": [
        "#Untuk mengakses nilai dari anggota dictionary, kita menggunakan key-nya.\n",
        "a = d['one']\n",
        "b = d['two']\n",
        "\n",
        "print (a,b)"
      ],
      "execution_count": null,
      "outputs": [
        {
          "output_type": "stream",
          "text": [
            "satu dua\n"
          ],
          "name": "stdout"
        }
      ]
    },
    {
      "cell_type": "code",
      "metadata": {
        "id": "0A4za4fI_tab",
        "outputId": "0a09f4ec-6080-4f32-898d-731a3e1d1bd7",
        "colab": {
          "base_uri": "https://localhost:8080/",
          "height": 33
        }
      },
      "source": [
        "# menambahkan item\n",
        "d.update({\"four\":\"empat\"})\n",
        "print(d)"
      ],
      "execution_count": null,
      "outputs": [
        {
          "output_type": "stream",
          "text": [
            "{'one': 'satu', 'two': 'dua', 'three': 3, 'four': 'empat'}\n"
          ],
          "name": "stdout"
        }
      ]
    },
    {
      "cell_type": "code",
      "metadata": {
        "id": "rJGsHkzpA4tl",
        "outputId": "dd9ce3e3-03a2-4184-863c-70a2a8f2338f",
        "colab": {
          "base_uri": "https://localhost:8080/",
          "height": 33
        }
      },
      "source": [
        "# menghapus elemen terakhir\n",
        "d.popitem()"
      ],
      "execution_count": null,
      "outputs": [
        {
          "output_type": "execute_result",
          "data": {
            "text/plain": [
              "('four', 'empat')"
            ]
          },
          "metadata": {
            "tags": []
          },
          "execution_count": 58
        }
      ]
    },
    {
      "cell_type": "code",
      "metadata": {
        "id": "pWyDfhwpBpjt"
      },
      "source": [
        "# mengosongkan isi dictionary\n",
        "d.clear()"
      ],
      "execution_count": null,
      "outputs": []
    },
    {
      "cell_type": "code",
      "metadata": {
        "id": "GxytyHnhBvsk"
      },
      "source": [
        "# menghapus dictionary\n",
        "del d"
      ],
      "execution_count": null,
      "outputs": []
    },
    {
      "cell_type": "markdown",
      "metadata": {
        "id": "mMXntBOqjJDp"
      },
      "source": [
        "## 4 Percabangan dan Perulangan\n"
      ]
    },
    {
      "cell_type": "markdown",
      "metadata": {
        "id": "CPpJtZKsCCiM"
      },
      "source": [
        "### 4.1 Percabangan"
      ]
    },
    {
      "cell_type": "markdown",
      "metadata": {
        "id": "cEhlAfyWjTCR"
      },
      "source": [
        "\n",
        "Percabangan mengevaluasi kondisi atau ekspresi yang hasilnya benar atau salah .  Kondisi atau ekspresi tersebut disebut ekspresi boolean. Hasil dari pengecekan kondisi adalah True atau False. Bila benar (True), maka pernyataan yang ada di dalam blok kondisi tersebut akan dieksekusi. Bila salah (False), maka blok pernyataan lain yang dieksekusi.\n",
        "\n",
        "Terdapat tiga jenis percabangan dalam python, yaitu:\n",
        "1.   if ...\n",
        "2.   if ... else ...\n",
        "1.   if ... elif ... else ...\n",
        "\n"
      ]
    },
    {
      "cell_type": "markdown",
      "metadata": {
        "id": "8exhvtNhj272"
      },
      "source": [
        "#### Pernyataan If\n",
        "Pernyataan if menguji satu buah kondisi. Bila hasilnya benar maka pernyataan di dalam blok if tersebut dieksekusi. Bila salah, maka pernyataan tidak dieksekusi. Contoh Sintaksnya adalah seperti berikut:"
      ]
    },
    {
      "cell_type": "code",
      "metadata": {
        "id": "vPtKlY0fkAiU",
        "outputId": "e4e1fed1-e86f-448c-e50e-2a2d6f054a61",
        "colab": {
          "base_uri": "https://localhost:8080/"
        }
      },
      "source": [
        "# Bila bilangan positif, tampilkan pesan\n",
        "\n",
        "angka = 5\n",
        "if angka > 0:\n",
        "   print(angka, \"adalah bilangan positif.\")"
      ],
      "execution_count": 23,
      "outputs": [
        {
          "output_type": "stream",
          "text": [
            "5 adalah bilangan positif.\n"
          ],
          "name": "stdout"
        }
      ]
    },
    {
      "cell_type": "code",
      "metadata": {
        "id": "UHEjk_LskXyc"
      },
      "source": [
        "# yang berikut akan bernilai False sehingga tidak dieksekusi, karena nilai angka tidak lebih dari 0\n",
        "angka = -1\n",
        "if angka > 0:\n",
        "    print(angka, \"adalah bilangan positif.\")"
      ],
      "execution_count": null,
      "outputs": []
    },
    {
      "cell_type": "markdown",
      "metadata": {
        "id": "tPF53Xd0kK7h"
      },
      "source": [
        "#### Pernyataan if ... else\n",
        "Pernyataan if…else menguji 2 kondisi. Kondisi pertama kalau benar, dan kondisi kedua kalau salah. Sintaksnya adalah seperti berikut:\n",
        "\n"
      ]
    },
    {
      "cell_type": "code",
      "metadata": {
        "id": "5PAn1AVrku28"
      },
      "source": [
        "# Program menguji apakah sebuah bilangan positif atau negatif dan menampilkan pesan ke monitor\n",
        "bilangan = 5\n",
        "if bilangan >= 0:\n",
        "    print(\"Positif atau Nol\")\n",
        "else:\n",
        "    print(\"Bilangan negatif\")"
      ],
      "execution_count": null,
      "outputs": []
    },
    {
      "cell_type": "code",
      "metadata": {
        "id": "ziPcfgBtk10A"
      },
      "source": [
        "# Coba juga mengubah bilangan menjadi bilangan = -1 dan perhatikan hasilnya\n",
        "bilangan = -1\n",
        "if bilangan >= 0:\n",
        "    print(\"Positif atau Nol\")\n",
        "else:\n",
        "    print(\"Bilangan negatif\")"
      ],
      "execution_count": null,
      "outputs": []
    },
    {
      "cell_type": "markdown",
      "metadata": {
        "id": "8yAsxV5bk8si"
      },
      "source": [
        "#### Pernyataan if...elif...else\n",
        "Pernyataan if…elif…else digunakan untuk menguji lebih dari 2 kondisi. Bila kondisi pada if benar, maka pernyataan di dalamnya yang dieksekusi. Bila salah, maka masuk ke pengujian kondisi elif. Terakhir bila tidak ada if atau elif yang benar, maka yang dijalankan adalah yang di blok else. Sintaksnya adalah seperti berikut:"
      ]
    },
    {
      "cell_type": "code",
      "metadata": {
        "id": "1CtgtK_xlP1S",
        "outputId": "f3e1e845-da42-4ae8-cc58-0e60085fef63",
        "colab": {
          "base_uri": "https://localhost:8080/"
        }
      },
      "source": [
        "# Di sini kita menguji apakah sebuah bilangan adalah bilangan positif, nol, atau negatif dan menampilkan hasilnya ke layar\n",
        "bilangan = 5.5\n",
        "if bilangan > 0:\n",
        "    print(\"Bilangan positif\")\n",
        "elif bilangan == 0:\n",
        "    print(\"Nol\")\n",
        "else:\n",
        "    print(\"Bilangan negatif\")"
      ],
      "execution_count": 24,
      "outputs": [
        {
          "output_type": "stream",
          "text": [
            "Bilangan positif\n"
          ],
          "name": "stdout"
        }
      ]
    },
    {
      "cell_type": "code",
      "metadata": {
        "id": "VV8L4vSllZZg"
      },
      "source": [
        "# Coba juga mengganti bilangan jadi bilangan = 0\n",
        "bilangan = 0\n",
        "if bilangan > 0:\n",
        "    print(\"Bilangan positif\")\n",
        "elif bilangan == 0:\n",
        "    print(\"Nol\")\n",
        "else:\n",
        "    print(\"Bilangan negatif\")"
      ],
      "execution_count": null,
      "outputs": []
    },
    {
      "cell_type": "code",
      "metadata": {
        "id": "SEsAHw7ZlcVL"
      },
      "source": [
        "# Coba juga mengganti bilangan jadi bilangan = -5.5\n",
        "bilangan = -5.5\n",
        "if bilangan > 0:\n",
        "    print(\"Bilangan positif\")\n",
        "elif bilangan == 0:\n",
        "    print(\"Nol\")\n",
        "else:\n",
        "    print(\"Bilangan negatif\")"
      ],
      "execution_count": null,
      "outputs": []
    },
    {
      "cell_type": "markdown",
      "metadata": {
        "id": "MghXUIf1CPiP"
      },
      "source": [
        "### 4.2 Perulangan"
      ]
    },
    {
      "cell_type": "markdown",
      "metadata": {
        "id": "5IAdmCYHlrPd"
      },
      "source": [
        "\n",
        "Python mengeksekusi program baris perbaris. Mulai dari baris satu, dua, dan seterusnya. Ada kalanya, kita perlu mengeksekusi satu baris atau satu blok kode program beberapa kali. Hal ini disebut dengan perulangan atau biasa disebut looping atau iterasi.\n",
        "\n",
        "Di python, perulangan bisa dilakukan dengan dua cara atau metode, yaitu:\n",
        "\n",
        "1. Menggunakan for\n",
        "2. Menggunakan while"
      ]
    },
    {
      "cell_type": "markdown",
      "metadata": {
        "id": "eFMZTmpmmTuG"
      },
      "source": [
        "#### Perulangan dengan for\n",
        "Perulangan dengan for memiliki tambahan variabel. Variabel  digunakan untuk penampung sementara nilai dari sequence pada saat terjadi perulangan. Sequence adalah tipe data berurut seperti string, list, dan tuple.\n",
        "\n",
        "Perulangan terjadi sampai looping mencapai elemen atau anggota terakhir dari sequence. Bila loop sudah sampai ke elemen terakhir dari sequence, maka program akan keluar dari looping.\n",
        "\n",
        "contoh perulangan for adalah sebagai berikut"
      ]
    },
    {
      "cell_type": "code",
      "metadata": {
        "id": "V16Dbgg1mjFc",
        "outputId": "43477ed5-899a-467f-90f3-bd678a0ba431",
        "colab": {
          "base_uri": "https://localhost:8080/"
        }
      },
      "source": [
        "# Program untuk menemukan jumlah bilangan dalam satu list\n",
        "\n",
        "# List number\n",
        "numbers = [7, 5, 9, 8, 4, 2, 6, 4, 1]\n",
        "\n",
        "# variablel untuk menyimpan jumlah\n",
        "sum = 0\n",
        "\n",
        "# iterasi\n",
        "for each in numbers:\n",
        "    sum = sum + each\n",
        "\n",
        "# Output\n",
        "print(\"Jumlah semuanya:\", sum)"
      ],
      "execution_count": 25,
      "outputs": [
        {
          "output_type": "stream",
          "text": [
            "Jumlah semuanya: 46\n"
          ],
          "name": "stdout"
        }
      ]
    },
    {
      "cell_type": "code",
      "metadata": {
        "id": "E5c4YtqFnLxB",
        "outputId": "699ef364-19a3-433b-d612-3ce231ab1be8",
        "colab": {
          "base_uri": "https://localhost:8080/"
        }
      },
      "source": [
        "#Fungsi Range\n",
        "mapel = ['matematika', 'fisika', 'kimia']\n",
        "\n",
        "# iterasi list menggunakan indeks\n",
        "for i in range(len(mapel)):\n",
        "    print(\"Saya suka\", mapel[i])"
      ],
      "execution_count": 26,
      "outputs": [
        {
          "output_type": "stream",
          "text": [
            "Saya suka matematika\n",
            "Saya suka fisika\n",
            "Saya suka kimia\n"
          ],
          "name": "stdout"
        }
      ]
    },
    {
      "cell_type": "markdown",
      "metadata": {
        "id": "a_MvuGwDpvOh"
      },
      "source": [
        "#### Perulangan Menggunakan While\n",
        "Perulangan menggunakan while akan menjalankan blok pernyataan terus menerus selama kondisi bernilai benar.\n",
        "\n",
        "While juga memiliki input dengan nama expression. Expression merupakan ekspresi atau kondisi apa saja, dan untuk nilai selain nol dianggap True. Iterasi akan terus berlanjut selama kondisi benar. Bila kondisi salah, maka program akan keluar dari while dan lanjut ke baris pernyataan di luar while."
      ]
    },
    {
      "cell_type": "code",
      "metadata": {
        "id": "v0JDrlzyqJB6"
      },
      "source": [
        "count = 0\n",
        "while (count < 5):\n",
        "    print('The count is:', count)\n",
        "    count = count + 1\n",
        "print('Good bye!')"
      ],
      "execution_count": null,
      "outputs": []
    },
    {
      "cell_type": "markdown",
      "metadata": {
        "id": "BT1sPMBTqOQF"
      },
      "source": [
        "Di sini, blok pernyataan print('The count is:', count), dijalankan terus selama count masih lebih kecil dari 5. Count ditambah 1 setiap kali iterasi. Pada saat nilai count mencapai 5, maka kondisi menjadi False dan program keluar dari looping while dan melanjutkan baris selanjutnya yaitu print(\"Good bye\")."
      ]
    },
    {
      "cell_type": "markdown",
      "metadata": {
        "id": "Jqbwur2OqbV8"
      },
      "source": [
        "#### Kendall Looping\n",
        "Looping umumnya akan berhenti bila kondisi sudah bernilai salah. Akan tetapi, seringkali kita perlu keluar dari looping di tengah jalan tergantung keperluan. Hal ini bisa kita lakukan dengan menggunakan kata kunci break dan continue.\n",
        "\n",
        "Statement break memaksa program keluar dari blok looping di tengah jalan. Sedangkan statement continue menyebabkan program langsung melanjut ke step / interval berikutnya dan mengabaikan (skip) baris kode di bawahnya (yang satu blok). Jelasnya perhatikan contoh berikut:"
      ]
    },
    {
      "cell_type": "code",
      "metadata": {
        "id": "M8bpg5FMqj7S"
      },
      "source": [
        "# contoh penggunaan statement break\n",
        "for letter in \"Programming\":\n",
        "    if letter == \"g\":\n",
        "        break\n",
        "    print(\"Huruf sekarang:\", letter)\n",
        "print(\"Good bye\")"
      ],
      "execution_count": null,
      "outputs": []
    },
    {
      "cell_type": "code",
      "metadata": {
        "id": "i9PmlhQcqmRW"
      },
      "source": [
        "#Bila pada program di atas kita ganti kode break menjadi continue, maka hasilnya akan jadi seperti berikut:\n",
        "for letter in \"Programming\":\n",
        "    if letter == \"g\":\n",
        "        continue\n",
        "    print(\"Huruf sekarang:\", letter)\n",
        "print(\"Good bye\")"
      ],
      "execution_count": null,
      "outputs": []
    },
    {
      "cell_type": "markdown",
      "metadata": {
        "id": "UOlbx_pKq31V"
      },
      "source": [
        "#### Pernyataan While else\n",
        "Python mendukung penggunaan else sebagai pasangan dari while. Blok pernyataan else hanya akan dieksekusi bila kondisi while bernilai salah. Contohnya adalah sebagai berikut\n"
      ]
    },
    {
      "cell_type": "code",
      "metadata": {
        "id": "gYcpn5N-rAi_"
      },
      "source": [
        "count = 0\n",
        "while (count < 5):\n",
        "    print(count, \"kurang dari 5\")\n",
        "    count = count + 1\n",
        "else:\n",
        "    print(count, \"tidak kurang dari 5\")"
      ],
      "execution_count": null,
      "outputs": []
    },
    {
      "cell_type": "markdown",
      "metadata": {
        "id": "bFRAbLpsCd8k"
      },
      "source": [
        "## 5 Fungsi"
      ]
    },
    {
      "cell_type": "markdown",
      "metadata": {
        "id": "ile3fDt_rRC2"
      },
      "source": [
        "\n",
        "Fungsi adalah grup/blok program untuk melakukan tugas tertentu yang berulang. Fungsi membuat kode program menjadi reusable, artinya hanya di definisikan sekali saja, dan kemudian bisa digunakan berulang kali dari tempat lain di dalam program.\n",
        "\n",
        "\n",
        "Fungsi memecah keseluruhan program menjadi bagian – bagian yang lebih kecil . Dengan semakin besarnya program, maka fungsi akan membuatnya menjadi lebih mudah diorganisir dan dimanage.\n",
        "\n",
        "Sejauh ini, kita sudah menggunakan beberapa fungsi, misalnya fungsi print(), type(), dan sebagainya. Fungsi tersebut adalah fungsi bawaan dari Python. Kita bisa membuat fungsi kita sendiri sesuai kebutuhan.\n",
        "\n",
        "Contoh pemakaian fungsi adalah sebagai berikut:"
      ]
    },
    {
      "cell_type": "code",
      "metadata": {
        "id": "uxCjr0CurULj"
      },
      "source": [
        "def sapa(nama): \n",
        "    \"\"\"Fungsi ini untuk menyapa seseorang sesuai nama yang dimasukkan sebagai parameter\"\"\" \n",
        "    print(\"Hi, \" + nama + \". Apa kabar?\") \n",
        "\n",
        "# pemanggilan fungsi \n",
        "sapa('Umar') "
      ],
      "execution_count": null,
      "outputs": []
    },
    {
      "cell_type": "markdown",
      "metadata": {
        "id": "mlp_HvepCiN7"
      },
      "source": [
        "### 5.1 Argumen Kata Kunci"
      ]
    },
    {
      "cell_type": "markdown",
      "metadata": {
        "id": "GiQWBRnvrp82"
      },
      "source": [
        "\n",
        "Argumen dengan kata kunci berkaitan dengan cara pemanggilan fungsi. Ketika menggunakan argumen dengan kata kunci, fungsi pemanggil menentukan argumen dari nama parameternya. Hal ini membuat kita bisa mengabaikan argumen atau menempatkannya dengan sembarang urutan.\n",
        "\n",
        "Python dapat menggunakan kata kunci yang disediakan untuk mencocokkan nilai sesuai dengan parameternya. Jelasnya ada pada contoh berikut:"
      ]
    },
    {
      "cell_type": "code",
      "metadata": {
        "id": "JWVbN_Y_rxbR",
        "outputId": "07f313c4-88d2-45ee-9fe2-4f7b8e760476",
        "colab": {
          "base_uri": "https://localhost:8080/"
        }
      },
      "source": [
        "# Definisi fungsi \n",
        "def print_info( nama, usia ): \n",
        "    \"\"\"Fungsi ini menampilkan info yang dimasukkan\"\"\"\n",
        "    print (\"Nama: \", nama) \n",
        "    print (\"Usia: \", usia) \n",
        "\n",
        "# Memanggil fungsi \n",
        "# output \n",
        "print_info( \"Budi\", 25 )"
      ],
      "execution_count": 27,
      "outputs": [
        {
          "output_type": "stream",
          "text": [
            "Nama:  25\n",
            "Usia:  Budi\n"
          ],
          "name": "stdout"
        }
      ]
    },
    {
      "cell_type": "code",
      "metadata": {
        "id": "a6--V2fLKGUE",
        "outputId": "4437725e-e082-4708-efda-39563591b96a",
        "colab": {
          "base_uri": "https://localhost:8080/"
        }
      },
      "source": [
        "print_info(\"Andi\", 20)"
      ],
      "execution_count": 28,
      "outputs": [
        {
          "output_type": "stream",
          "text": [
            "Nama:  Andi\n",
            "Usia:  20\n"
          ],
          "name": "stdout"
        }
      ]
    },
    {
      "cell_type": "markdown",
      "metadata": {
        "id": "_yo2XZB1CncX"
      },
      "source": [
        "### 5.2 Argumen Default"
      ]
    },
    {
      "cell_type": "markdown",
      "metadata": {
        "id": "EIAo3znGsEDo"
      },
      "source": [
        "\n",
        "Fungsi dengan argumen default menggunakan nilai default untuk argumen yang tidak diberikan nilainya pada saat pemanggilan fungsi. Pada contoh berikut, fungsi akan menampilkan usia default bila argumen usia tidak diberikan:"
      ]
    },
    {
      "cell_type": "code",
      "metadata": {
        "id": "OuEXhXfIsJfc",
        "outputId": "1cccf617-7d90-4615-bda1-bc567e6f919c",
        "colab": {
          "base_uri": "https://localhost:8080/",
          "height": 50
        }
      },
      "source": [
        "# Definisi fungsi \n",
        "def print_info( nama, usia= 17 ): \n",
        "    \"\"\"Fungsi ini menampilkan info yang dimasukkan\"\"\" \n",
        "    print (\"Nama: \", nama) \n",
        "    print (\"Usia \", usia) \n",
        "\n",
        "# Pemanggilan fungsi tidak menyediakan argumen usia \n",
        "print_info( nama = \"Galih\" ) "
      ],
      "execution_count": null,
      "outputs": [
        {
          "output_type": "stream",
          "text": [
            "Nama:  Galih\n",
            "Usia  17\n"
          ],
          "name": "stdout"
        }
      ]
    },
    {
      "cell_type": "markdown",
      "metadata": {
        "id": "w2lJQGizCsmo"
      },
      "source": [
        "5.3 Fungsi dengan Return Value"
      ]
    },
    {
      "cell_type": "markdown",
      "metadata": {
        "id": "DQA1BfU2CzGn"
      },
      "source": [
        "Fungsi yang telah kita buat sebelumnya merupakan sebuah fungsi yang mencetak informasi melalui argumen yang diberikan. Fungsi tersebut hanya memeberikan *side effect* berupa nilai yang tercetak, namun tidak merubah *environment* (tidak ada nilai yang dapat disimpan). Sebagai contoh jalankan fungsi sebelumnya dan simpan ke dalam sebua variabel dengan nama `info`."
      ]
    },
    {
      "cell_type": "code",
      "metadata": {
        "id": "OJz3t8PrDD0D",
        "outputId": "282901a6-05d5-4a03-8422-2c38985cc09c",
        "colab": {
          "base_uri": "https://localhost:8080/",
          "height": 50
        }
      },
      "source": [
        "info = print_info( nama = \"Galih\" )"
      ],
      "execution_count": null,
      "outputs": [
        {
          "output_type": "stream",
          "text": [
            "Nama:  Galih\n",
            "Usia  17\n"
          ],
          "name": "stdout"
        }
      ]
    },
    {
      "cell_type": "markdown",
      "metadata": {
        "id": "Y6o1e0esEBXD"
      },
      "source": [
        "Cetak variabel tersebut dan lihat apakah terdapat nilai yang tercetak ?"
      ]
    },
    {
      "cell_type": "code",
      "metadata": {
        "id": "PDyE-ibaEGfa",
        "outputId": "87e9aa69-7d9a-4769-f327-09e2d347a66c",
        "colab": {
          "base_uri": "https://localhost:8080/",
          "height": 33
        }
      },
      "source": [
        "print(info)"
      ],
      "execution_count": null,
      "outputs": [
        {
          "output_type": "stream",
          "text": [
            "None\n"
          ],
          "name": "stdout"
        }
      ]
    },
    {
      "cell_type": "markdown",
      "metadata": {
        "id": "6X5aQ5dQEKH9"
      },
      "source": [
        "Fungsi tersebut tidak mencetak nilai apapun, dalam hal ini tidak terdapat nilai yang tersimpan dalam variabel tersebut. Untuk membuat fungsi tersebut dapat menyimpan sebuah nilai, kita dapat menggunakan keyword `return` pada akhir fungsi."
      ]
    },
    {
      "cell_type": "code",
      "metadata": {
        "id": "st4HEZcZEJs9"
      },
      "source": [
        "# Definisi fungsi \n",
        "def print_info( nama, usia= 17 ): \n",
        "    \"\"\"Fungsi ini menampilkan info yang dimasukkan\"\"\" \n",
        "    print (\"Nama: \", nama) \n",
        "    print (\"Usia \", usia) \n",
        "\n",
        "    return [nama, usia]"
      ],
      "execution_count": null,
      "outputs": []
    },
    {
      "cell_type": "code",
      "metadata": {
        "id": "YrXcmuX0Ei7Z",
        "outputId": "b8dd712e-e781-4948-a3cf-31d03e57cb2a",
        "colab": {
          "base_uri": "https://localhost:8080/",
          "height": 50
        }
      },
      "source": [
        "info = print_info(\"Andi\")"
      ],
      "execution_count": null,
      "outputs": [
        {
          "output_type": "stream",
          "text": [
            "Nama:  Andi\n",
            "Usia  17\n"
          ],
          "name": "stdout"
        }
      ]
    },
    {
      "cell_type": "code",
      "metadata": {
        "id": "BM5ce_tmEo3Y",
        "outputId": "98d1d68e-c1da-443a-bff1-7dcb11e73f74",
        "colab": {
          "base_uri": "https://localhost:8080/",
          "height": 33
        }
      },
      "source": [
        "# cetak nilai dalam variabel\n",
        "print(info)"
      ],
      "execution_count": null,
      "outputs": [
        {
          "output_type": "stream",
          "text": [
            "['Andi', 17]\n"
          ],
          "name": "stdout"
        }
      ]
    }
  ]
}