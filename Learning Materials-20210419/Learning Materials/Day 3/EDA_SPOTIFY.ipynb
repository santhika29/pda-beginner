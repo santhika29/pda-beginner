{
  "nbformat": 4,
  "nbformat_minor": 0,
  "metadata": {
    "colab": {
      "name": "EDA_SPOTIFY.ipynb",
      "provenance": [],
      "collapsed_sections": []
    },
    "kernelspec": {
      "name": "python3",
      "display_name": "Python 3"
    },
    "language_info": {
      "name": "python"
    }
  },
  "cells": [
    {
      "cell_type": "markdown",
      "metadata": {
        "id": "VbIg7dyVn6gk"
      },
      "source": [
        "# Analisis Eksploratif Data Spotify\n",
        "\n",
        "Pada artikel ini, kita akan melakukan analisis eksploratif pada dataset `Spotify`. `Spotify`  Merupakan dataset yang berisikan daftar lagu dan fitur audio dari band/penyanyi ternama dunia, antara lain: Queens, Maroon 5, dan Jason Mraz.\n",
        "\n",
        "Kolom-kolom pada dataset tersebut, antara lain:\n",
        "\n",
        "* `id` : nomor seri lagu\n",
        "*  `name` : judul lagu\n",
        "* `popularity` : tingkat popularitas lagu\n",
        "* `album.id` : nomor seri album\n",
        "* `album.name` : nama album\n",
        "* `album.total_tracks` : total lagu dalam album\n",
        "* `track_number` : nomor lagu dalam album\n",
        "* `duration_ms` : durasi lagu dalam satuan ms\n",
        "* `danceability` : elemen musik termasuk tempo, stabilitas ritme, kekuatan beat, dan keteraturan keseluruhan. Nilai 0,0 paling tidak bisa digunakan untuk menari dan 1,0 paling bisa digunakan untuk menari.\n",
        "* `energy` : Energi adalah ukuran dari 0,0 hingga 1,0 dan mewakili ukuran persepsi intensitas dan aktivitas. Biasanya, trek yang energik terasa cepat, keras, dan berisik. Sebagai contoh, death metal memiliki energi tinggi, sedangkan prelude Bach mendapat skor rendah pada skala. Fitur perseptual yang berkontribusi pada atribut ini meliputi rentang dinamis, persepsi kenyaringan, warna nada, onset rate, dan entropi umum.\n",
        "* `key` : Kunci dari trek adalah. Integer memetakan ke pitch menggunakan notasi Pitch Class standar. Misalnya. 0 = C, 1 = C♯ / D ♭, 2 = D, dan seterusnya.\n",
        "* `loudness` : Keseluruhan kenyaringan trek dalam desibel (dB). Nilai kenyaringan rata-rata di seluruh trek dan berguna untuk membandingkan kenyaringan relatif trek. Kenyaringan adalah kualitas suara yang merupakan korelasi psikologis utama dari kekuatan fisik (amplitudo). Nilai kisaran khas antara -60 dan 0 db.\n",
        "* `mode` : Mode menunjukkan modalitas (besar atau kecil) dari suatu trek, jenis skala dari mana konten melodinya diturunkan. Mayor diwakili oleh 1 dan minor adalah 0.\n",
        "* `speechiness` : Speechiness mendeteksi keberadaan kata-kata yang diucapkan di trek. Semakin eksklusif pidato-seperti rekaman (mis. Acara bincang-bincang, buku audio, puisi), semakin dekat dengan 1.0 nilai atribut. Nilai di atas 0,66 menggambarkan trek yang mungkin seluruhnya terbuat dari kata-kata yang diucapkan. Nilai antara 0,33 dan 0,66 menggambarkan trek yang mungkin berisi musik dan ucapan, baik dalam bagian atau lapisan, termasuk kasus-kasus seperti musik rap. Nilai di bawah 0,33 kemungkinan besar mewakili musik dan trek non-ucapan lainnya.\n",
        "* `acousticness` : Ukuran kepercayaan dari 0,0 hingga 1,0 dari apakah trek akustik. 1.0 mewakili kepercayaan tinggi trek adalah akustik.\n",
        "* `instrumentalness` : Memprediksi apakah suatu lagu tidak mengandung vokal. Suara “Ooh” dan “aah” diperlakukan sebagai instrumen dalam konteks ini. Rap atau trek kata yang diucapkan jelas \"vokal\". Semakin dekat nilai instrumentalness ke 1.0, semakin besar kemungkinan trek tidak mengandung konten vokal. Nilai di atas 0,5 dimaksudkan untuk mewakili trek instrumental, tetapi kepercayaan diri lebih tinggi ketika nilai mendekati 1.0.\n",
        "* `liveness` : Mendeteksi keberadaan audiens dalam rekaman. Nilai liveness yang lebih tinggi mewakili probabilitas yang meningkat bahwa trek dilakukan secara langsung. Nilai di atas 0,8 memberikan kemungkinan kuat bahwa trek direkam saat live concert.\n",
        "* `valence` : Ukuran 0,0 hingga 1,0 yang menggambarkan kepositifan musik yang disampaikan oleh sebuah trek. Lagu dengan valensi tinggi terdengar lebih positif (mis. Bahagia, ceria, gembira), sedangkan trek dengan valensi rendah terdengar lebih negatif (mis. Sedih, tertekan, marah).\n",
        "* `tempo` : Perkiraan tempo trek secara keseluruhan dalam beat per menit (BPM). Dalam terminologi musik, tempo adalah kecepatan atau kecepatan dari bagian yang diberikan dan diturunkan langsung dari durasi beat rata-rata.\n",
        "* `time_signature` : An estimated overall time signature of a track. The time signature (meter) is a notational convention to specify how many beats are in each bar (or measure)."
      ]
    },
    {
      "cell_type": "code",
      "metadata": {
        "id": "zAZTaTaKnWRR"
      },
      "source": [
        "# Import Packages pandas, seaborn, matplotlib.pyplot, numpy\n"
      ],
      "execution_count": null,
      "outputs": []
    },
    {
      "cell_type": "code",
      "metadata": {
        "id": "MTvOCHTOo7o1"
      },
      "source": [
        "# import dataset (ganti ___ dengan perintah yang sesuai)\n",
        "data = ___"
      ],
      "execution_count": null,
      "outputs": []
    },
    {
      "cell_type": "code",
      "metadata": {
        "id": "eh2AkKtapBV2"
      },
      "source": [
        "data.info()"
      ],
      "execution_count": null,
      "outputs": []
    },
    {
      "cell_type": "code",
      "metadata": {
        "id": "_3Utd9rRpDtB"
      },
      "source": [
        "data.head()"
      ],
      "execution_count": null,
      "outputs": []
    },
    {
      "cell_type": "markdown",
      "metadata": {
        "id": "hmYe7I8EovBt"
      },
      "source": [
        "## 1. Analisis Distribusi Data Numerik\n",
        "\n",
        "Buatlah visualisasi sebuah data numerik yang ada pada dataset dan ceritakan hasil visualisasi yang muncul!"
      ]
    },
    {
      "cell_type": "code",
      "metadata": {
        "id": "2nNI6q10pNo2"
      },
      "source": [
        "# visualisasi data dengan distplot\n"
      ],
      "execution_count": null,
      "outputs": []
    },
    {
      "cell_type": "markdown",
      "metadata": {
        "id": "nDm_SU_3pTW9"
      },
      "source": [
        "## 2. Analisis Korelasi dengan Scatterplot Matrices\n",
        "\n",
        "Buatlah scatterplot matrices untuk melihat korelasi antar variabel numerik dan ceritakan temuan menarik yang anda temui! "
      ]
    },
    {
      "cell_type": "code",
      "metadata": {
        "id": "kPSuehFqpl9r"
      },
      "source": [
        "# visualisasi data dengan scatterplot matrices\n",
        "\n"
      ],
      "execution_count": null,
      "outputs": []
    },
    {
      "cell_type": "markdown",
      "metadata": {
        "id": "2Q6TUkg4pqfE"
      },
      "source": [
        "# 3. Analisis lainnya\n",
        "\n",
        "Jawablah pertanyaan berikut dengan menggunakan sebuah code atau visualisasi data!"
      ]
    },
    {
      "cell_type": "code",
      "metadata": {
        "id": "B4SIrRTmp36Z"
      },
      "source": [
        "# Lagu yang Paling Cocok untuk Berdansa pada Masing-Masing Artis\n",
        "# Petunjuk: \n",
        "#          1. Operasi group berdasarkan kolom \"artist\"\n",
        "#          2. lakukan left atau right join pada dataset semula\n"
      ],
      "execution_count": null,
      "outputs": []
    },
    {
      "cell_type": "code",
      "metadata": {
        "id": "4lQ0uI4xqMoZ"
      },
      "source": [
        "# lagu dengan durasi terlama pada masing-masing artis\n",
        "# Petunjuk: \n",
        "#          1. Operasi group berdasarkan kolom \"artist\"\n",
        "#          2. lakukan left atau right join pada dataset semula\n"
      ],
      "execution_count": null,
      "outputs": []
    },
    {
      "cell_type": "code",
      "metadata": {
        "id": "Y4MP9Jnkqf_t"
      },
      "source": [
        "# lagu paling sedih pada masing-masing artis\n",
        "# Petunjuk: \n",
        "#          1. Operasi group berdasarkan kolom \"artist\"\n",
        "#          2. lakukan left atau right join pada dataset semula\n"
      ],
      "execution_count": null,
      "outputs": []
    },
    {
      "cell_type": "code",
      "metadata": {
        "id": "_ccbkPsMql4U"
      },
      "source": [
        "# lagu paling keras terdengan pada masing-masing artis\n",
        "# Petunjuk: \n",
        "#          1. Operasi group berdasarkan kolom \"artist\"\n",
        "#          2. lakukan left atau right join pada dataset semula\n"
      ],
      "execution_count": null,
      "outputs": []
    },
    {
      "cell_type": "code",
      "metadata": {
        "id": "nNCpDt6lqw2h"
      },
      "source": [
        "# lagu paling lambat temponya\n",
        "# Petunjuk: \n",
        "#          1. hitung nilai minimum variabel tempo\n",
        "#          2. lakukan filter pada data semula menggunakan nilai minimum tersebut\n"
      ],
      "execution_count": null,
      "outputs": []
    },
    {
      "cell_type": "code",
      "metadata": {
        "id": "lSmrLuC7rFFN"
      },
      "source": [
        "# artis dengan jumlah lagu live concert terbanyak\n",
        "# Petunjuk: \n",
        "#          1. Operasi group berdasarkan kolom \"artist\"\n",
        "#          2. lakukan left atau right join pada dataset semula\n"
      ],
      "execution_count": null,
      "outputs": []
    }
  ]
}