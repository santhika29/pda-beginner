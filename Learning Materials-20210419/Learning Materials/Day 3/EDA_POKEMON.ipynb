{
  "nbformat": 4,
  "nbformat_minor": 0,
  "metadata": {
    "colab": {
      "name": "EDA_POKEMON.ipynb",
      "provenance": [],
      "collapsed_sections": []
    },
    "kernelspec": {
      "name": "python3",
      "display_name": "Python 3"
    },
    "language_info": {
      "name": "python"
    }
  },
  "cells": [
    {
      "cell_type": "markdown",
      "metadata": {
        "id": "VbIg7dyVn6gk"
      },
      "source": [
        "# Analisis Eksploratif Data Pokemon\n",
        "\n",
        "Pada artikel ini, kita akan melakukan analisis eksploratif pada dataset `Pokemon`. `Pokemon`  merupakan dataset yang berisikan karakteristik pokemon seperti: nama pokemon, jenis pokemon, dan karakteristik kekuatan pokemon.\n",
        "\n",
        "Kolom-kolom pada dataset tersebut, antara lain:\n",
        "\n",
        "* `number` : nomor seri pokemon\n",
        "*  `name` : nama pokemon\n",
        "* `type` : jenis pokemon\n",
        "* `total` : total nilai karakteristik serangan, kecepatan, *health point*, dan pertahanan pokemon\n",
        "* `hp` : *health point*\n",
        "* `attack` : Kekuatan serangan\n",
        "* `defense` : kekuatan pertahanan\n",
        "* `special_attack` : kekuatan serangan khusus\n",
        "* `special_defense` : kekuatan pertahanan khusus\n",
        "* `speed` : tingkat kecepatan"
      ]
    },
    {
      "cell_type": "code",
      "metadata": {
        "id": "zAZTaTaKnWRR"
      },
      "source": [
        "# Import Packages pandas, seaborn, matplotlib.pyplot, numpy\n"
      ],
      "execution_count": null,
      "outputs": []
    },
    {
      "cell_type": "code",
      "metadata": {
        "id": "MTvOCHTOo7o1"
      },
      "source": [
        "# import dataset (ganti ___ dengan perintah yang sesuai)\n",
        "data = ___"
      ],
      "execution_count": null,
      "outputs": []
    },
    {
      "cell_type": "code",
      "metadata": {
        "id": "eh2AkKtapBV2"
      },
      "source": [
        "data.info()"
      ],
      "execution_count": null,
      "outputs": []
    },
    {
      "cell_type": "code",
      "metadata": {
        "id": "_3Utd9rRpDtB"
      },
      "source": [
        "data.head()"
      ],
      "execution_count": null,
      "outputs": []
    },
    {
      "cell_type": "markdown",
      "metadata": {
        "id": "hmYe7I8EovBt"
      },
      "source": [
        "## 1. Analisis Distribusi Data Numerik\n",
        "\n",
        "Buatlah visualisasi sebuah data numerik yang ada pada dataset dan ceritakan hasil visualisasi yang muncul!"
      ]
    },
    {
      "cell_type": "code",
      "metadata": {
        "id": "2nNI6q10pNo2"
      },
      "source": [
        "# visualisasi data dengan distplot\n"
      ],
      "execution_count": null,
      "outputs": []
    },
    {
      "cell_type": "markdown",
      "metadata": {
        "id": "nDm_SU_3pTW9"
      },
      "source": [
        "## 2. Analisis Korelasi dengan Scatterplot Matrices\n",
        "\n",
        "Buatlah scatterplot matrices untuk melihat korelasi antar variabel numerik dan ceritakan temuan menarik yang anda temui! "
      ]
    },
    {
      "cell_type": "code",
      "metadata": {
        "id": "kPSuehFqpl9r"
      },
      "source": [
        "# visualisasi data dengan scatterplot matrices\n",
        "\n"
      ],
      "execution_count": null,
      "outputs": []
    },
    {
      "cell_type": "markdown",
      "metadata": {
        "id": "2Q6TUkg4pqfE"
      },
      "source": [
        "# 3. Analisis lainnya\n",
        "\n",
        "Jawablah pertanyaan berikut dengan menggunakan sebuah code atau visualisasi data!"
      ]
    },
    {
      "cell_type": "code",
      "metadata": {
        "id": "B4SIrRTmp36Z"
      },
      "source": [
        "# Jenis Pokemon Terkuat\n",
        "# Petunjuk: hitung rata-rata atau median attack pokemon pada masing-masin type\n"
      ],
      "execution_count": null,
      "outputs": []
    },
    {
      "cell_type": "code",
      "metadata": {
        "id": "4lQ0uI4xqMoZ"
      },
      "source": [
        "# Jenis Pokemon Tercepat\n",
        "# Petunjuk: hitung rata-rata atau median speed pokemon pada masing-masin type\n"
      ],
      "execution_count": null,
      "outputs": []
    },
    {
      "cell_type": "code",
      "metadata": {
        "id": "Y4MP9Jnkqf_t"
      },
      "source": [
        "# Pokemon Terlemah\n",
        "# Petunjuk: \n",
        "#          1. Hitung nilai minimum attack\n",
        "#          2. Gunakan nilai minimum tersebut untuk memfilter baris pada data\n"
      ],
      "execution_count": null,
      "outputs": []
    },
    {
      "cell_type": "code",
      "metadata": {
        "id": "_ccbkPsMql4U"
      },
      "source": [
        "# Apakah Pokemon dengan Tingkat Serangan Spesial Tinggi akan Memiliki Tingkat Pertahanan yang Tinggi juga?\n",
        "# Petunjuk: buatlah scatterplot untuk kolom-kolom yang sesuai\n"
      ],
      "execution_count": null,
      "outputs": []
    },
    {
      "cell_type": "code",
      "metadata": {
        "id": "nNCpDt6lqw2h"
      },
      "source": [
        "# Pokemon  dengan Tingkat Pertahanan Spesial Tertinggi tiap Jenisnya\n",
        "# Petunjuk:\n",
        "#          1. Operasi group berdasarkan kolom \"type\"\n",
        "#          2. Lakukan left atau right join dengan dataset semula \n"
      ],
      "execution_count": null,
      "outputs": []
    },
    {
      "cell_type": "code",
      "metadata": {
        "id": "lSmrLuC7rFFN"
      },
      "source": [
        "# Pokemon dengan Tingkat Serangan Spesial Tertinggi tiap Jenisnya\n",
        "# Petunjuk:\n",
        "#          1. Operasi group berdasarkan kolom \"type\"\n",
        "#          2. Lakukan left atau right join dengan dataset semula \n"
      ],
      "execution_count": null,
      "outputs": []
    }
  ]
}